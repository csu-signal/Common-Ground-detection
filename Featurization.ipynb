{
 "cells": [
  {
   "cell_type": "code",
   "execution_count": 2,
   "metadata": {},
   "outputs": [],
   "source": [
    "import pandas as pd\n",
    "import numpy as np"
   ]
  },
  {
   "cell_type": "markdown",
   "metadata": {},
   "source": [
    "GAMR"
   ]
  },
  {
   "cell_type": "code",
   "execution_count": 55,
   "metadata": {},
   "outputs": [],
   "source": [
    "participants = [\"Participant_1\", \"Participant_2\", \"Participant_3\"]\n",
    "gest_type = [\"icon-GA\", \"gesture-unit\", \"and\", \"deixis-GA\", \"emblem-GA\"]\n",
    "arg0 = [\"participant_1\", \"participant_2\", \"participant_3\"]\n",
    "arg1 = list(set(['thumbs_up', 'scale', 'wobble', 'idea', 'tablet', 'researcher', 'paper', 'together', 'type', 'stack', 'hold', 'row', 'participant_3', 'string', 'stop', 'look', 'even', 'worksheet', 'yellow_block', 'writing', 'wobble', 'high', 'green_block', 'larger', 'location', 'low', 'computer', 'list', 'fingers', 'blue_block', 'clap', 'agree', 'phone', 'remove', 'blue_block', 'put', 'purple_block', 'participant_1', 'brown_block', 'range', 'counting', 'add', 'fall', 'hand', 'drop', 'clap', 'cup', 'papert', 'wait', 'yellow_block', 'participant_2', 'blocks', 'group', 'up', 'green_block', 'narrow', 'done', 'previous', 'idea', 'move', 'circle', 'brown _block', 'typing', 'hold', 'maybe', 'approximate', 'red_block', 'no', 'swipe direction', 'notebook_scale', 'purple_block', 'yes', 'box', 'left', 'throw', 'block']))\n",
    "arg2 = [\"group\", \"participant_1\", \"participant_2\", \"participant_3\", \"researcher\"]\n",
    "\n",
    "total_len = len(gest_type) + len(arg0) + len(arg1) + len(arg2)"
   ]
  },
  {
   "cell_type": "code",
   "execution_count": 63,
   "metadata": {},
   "outputs": [
    {
     "data": {
      "text/plain": [
       "81"
      ]
     },
     "execution_count": 63,
     "metadata": {},
     "output_type": "execute_result"
    }
   ],
   "source": [
    "total_len"
   ]
  },
  {
   "cell_type": "code",
   "execution_count": 86,
   "metadata": {},
   "outputs": [],
   "source": [
    "for group in range(1,11):\n",
    "    # print(group)\n",
    "    df_final = pd.DataFrame()\n",
    "    \n",
    "    gamr = pd.read_csv(f\"Group_{group:02d}/Group_{group:02d}_GAMR_Oracle.csv\").fillna('')\n",
    "\n",
    "    utt_end = gamr.iloc[-1].Utterance\n",
    "\n",
    "    for i in range(utt_end+1):\n",
    "        parts = [[0]*total_len, [0]*total_len, [0]*total_len]\n",
    "\n",
    "        df = gamr.loc[gamr[\"Utterance\"] == i]\n",
    "        for _, row in df.iterrows():\n",
    "            for p_i, p in enumerate(participants):\n",
    "                val = row.loc[p]\n",
    "\n",
    "\n",
    "                gest_tmp = [0]*len(gest_type)\n",
    "                for i, g in enumerate(gest_type):\n",
    "                    if g in val:\n",
    "                        gest_tmp[i] = 1\n",
    "\n",
    "\n",
    "                arg0_tmp = [0]*len(arg0)\n",
    "                arg0_start = val.find(\"ARG0\")\n",
    "                arg0_end = arg0_start + val[arg0_start:].find(\")\")+1\n",
    "                if arg0_start != 0 and arg0_end-arg0_start > 0:\n",
    "                    v = val[arg0_start:arg0_end]\n",
    "                    if \"center\" in v or \"2\" in v:\n",
    "                        arg0_tmp[1] = 1\n",
    "                    elif \"left\" in v or \"1\" in v:\n",
    "                        arg0_tmp[0] = 1\n",
    "                    elif \"right\" in v or \"3\" in v:\n",
    "                        arg0_tmp[2] = 1\n",
    "\n",
    "\n",
    "                arg1_tmp = [0]*len(arg1)\n",
    "                arg1_start = val.find(\":ARG1\") + 1\n",
    "                arg1_end = arg1_start + val[arg1_start:].find(\")\")+1\n",
    "                if arg1_start != 0 and arg1_end-arg1_start > 0:\n",
    "                    v = val[arg1_start:arg1_end]\n",
    "                    for i, opt in enumerate(arg1):\n",
    "                        if opt in v:\n",
    "                            arg1_tmp[i] = 1\n",
    "\n",
    "\n",
    "                arg2_tmp = [0]*len(arg2)\n",
    "                arg2_start = val.find(\"ARG2\")\n",
    "                arg2_end = arg2_start + val[arg2_start:].find(\")\")+1\n",
    "                if arg2_start != 0 and arg2_end-arg2_start > 0:\n",
    "                    v = val[arg2_start:arg2_end]\n",
    "                    if v == \"r\":\n",
    "                        arg2_tmp[arg2.index(\"r\")] = 1\n",
    "                    elif v == \"g\":\n",
    "                        arg2_tmp[arg2.index(\"g\")] = 1\n",
    "                    elif \"2\" in v:\n",
    "                        arg2_tmp[arg2.index(\"participant_2\")] = 1\n",
    "                    elif \"1\" in v:\n",
    "                        arg2_tmp[arg2.index(\"participant_1\")] = 1\n",
    "                    elif \"3\" in v:\n",
    "                        arg2_tmp[arg2.index(\"participant_3\")] = 1\n",
    "                \n",
    "\n",
    "                parts[p_i] = [x + y for x, y in zip(parts[p_i], gest_tmp + arg0_tmp + arg1_tmp + arg2_tmp)]\n",
    "        tensor_df = pd.DataFrame(np.array(parts).reshape((1, -1)))\n",
    "        df_final = pd.concat((df_final, tensor_df))\n",
    "    df_final.to_csv(f\"Group_{group:02d}/GROUP_{group:02d}_GAMR_Oracle_vectors.csv\", index=False, header=None)\n"
   ]
  },
  {
   "cell_type": "markdown",
   "metadata": {},
   "source": [
    "Action"
   ]
  },
  {
   "cell_type": "code",
   "execution_count": 113,
   "metadata": {},
   "outputs": [],
   "source": [
    "action_types = ['put', 'lift'] # check with if action type IN not == (some typos like llift), and use lower()obj1 = \n",
    "obj1 = [\"red\", \"blue\", \"green\", \"mystery\", \"purple\", \"yellow\"] # same\n",
    "preposition = [\"in\", \"on\"]\n",
    "obj2 = [\"phone\", \"table\", \"floor\", \"lefthand\", \"righthand\", \"leftblock\", \"rightblock\", \"leftscale\", \"rightscale\", \"mystery\", \"red\", \"blue\", \"green\", \"purple\", \"yellow\"]\n",
    "object_action_types = [\"right\", \"left\", \"zero\"]\n",
    "\n",
    "total_len = len(action_types) + len(obj1) + len(preposition) + len(obj2)"
   ]
  },
  {
   "cell_type": "code",
   "execution_count": 114,
   "metadata": {},
   "outputs": [
    {
     "data": {
      "text/plain": [
       "25"
      ]
     },
     "execution_count": 114,
     "metadata": {},
     "output_type": "execute_result"
    }
   ],
   "source": [
    "total_len"
   ]
  },
  {
   "cell_type": "code",
   "execution_count": 119,
   "metadata": {},
   "outputs": [
    {
     "data": {
      "text/plain": [
       "78"
      ]
     },
     "execution_count": 119,
     "metadata": {},
     "output_type": "execute_result"
    }
   ],
   "source": [
    "total_len * 3 + len(object_action_types)"
   ]
  },
  {
   "cell_type": "code",
   "execution_count": 121,
   "metadata": {},
   "outputs": [],
   "source": [
    "for group in range(1, 11):\n",
    "    # print(group)\n",
    "    df_final = pd.DataFrame()\n",
    "    action_df = pd.read_csv(f\"Group_{group:02d}/Group_{group:02d}_Actions_Oracle.csv\").fillna('')\n",
    "    action_cols = action_df.columns.difference([\"Start\", \"End\", \"Utterance\"])\n",
    "\n",
    "\n",
    "    for i in range(len(action_df)):\n",
    "        p = [[0]*total_len, [0]*total_len, [0]*total_len]\n",
    "        for act in action_cols:\n",
    "            if \"object\" not in act.lower():\n",
    "                    action = action_df.iloc[i][act]\n",
    "                    if action:\n",
    "                        for p_i in range(1, 4):\n",
    "                            if str(p_i) in action[-2:]:\n",
    "                                action_types_tmp = [0]*len(action_types)\n",
    "                                obj1_tmp = [0]*len(obj1)\n",
    "                                obj2_tmp = [0]*len(obj2)\n",
    "                                preposition_tmp = [0]*len(preposition)\n",
    "                                \n",
    "                                for i_a, a in enumerate(action_types):\n",
    "                                    if a in action[:action.find('(')].lower():\n",
    "                                        action_types_tmp[i_a] += 1\n",
    "                                \n",
    "                                for i_a, a in enumerate(obj1):\n",
    "                                    if action.find(',') == -1:\n",
    "                                        if a in action[action.find('(')+1: action.find(')')].lower():\n",
    "                                            obj1_tmp[i_a] += 1\n",
    "                                    else:\n",
    "                                        if a in action[action.find('(')+1: action.find(',')].lower():\n",
    "                                            obj1_tmp[i_a] += 1\n",
    "                                \n",
    "                                for i_a, a in enumerate(preposition):\n",
    "                                    if \"put\" in action.lower():\n",
    "                                        if action.find(',') != 1:\n",
    "                                            if a in action[action.find(',')+1:action[action.find(','):].find('(') + action.find(',')].lower():\n",
    "                                                preposition_tmp[i_a] += 1\n",
    "                                \n",
    "                                for i_a, a in enumerate(obj2):\n",
    "                                    if \"put\" in action.lower():\n",
    "                                        if action.find(',') != -1:\n",
    "                                            idx = max(action.find('in'), action.find('on'))\n",
    "                                            if a in action[idx+3:][:action[idx+3:].find(')')].lower():\n",
    "                                                obj2_tmp[i_a] += 1\n",
    "                                \n",
    "                                p[p_i - 1] = [x + y for x, y in zip(p[p_i - 1], action_types_tmp + obj1_tmp + preposition_tmp + obj2_tmp)]\n",
    "\n",
    "\n",
    "            else:\n",
    "                object_action_types_tmp = [0]*len(object_action_types)\n",
    "                if action:\n",
    "                    idx = action.find(\"lean\")\n",
    "                    for i_a, a in enumerate(object_action_types):\n",
    "                        if a in action[idx:][action[idx:].find('('):].lower():\n",
    "                            object_action_types_tmp[i_a] = 1\n",
    "        tensor_df = pd.DataFrame(np.array(p[0] + p[1] + p[2] + object_action_types_tmp).reshape((1, -1)))\n",
    "        df_final = pd.concat((df_final, tensor_df))\n",
    "    df_final.to_csv(f\"Group_{group:02d}/GROUP_{group:02d}_Actions_Oracle_vectors.csv\", index=False, header=None)"
   ]
  }
 ],
 "metadata": {
  "kernelspec": {
   "display_name": "base",
   "language": "python",
   "name": "python3"
  },
  "language_info": {
   "codemirror_mode": {
    "name": "ipython",
    "version": 3
   },
   "file_extension": ".py",
   "mimetype": "text/x-python",
   "name": "python",
   "nbconvert_exporter": "python",
   "pygments_lexer": "ipython3",
   "version": "3.9.13"
  },
  "orig_nbformat": 4
 },
 "nbformat": 4,
 "nbformat_minor": 2
}
