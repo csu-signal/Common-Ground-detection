{
 "cells": [
  {
   "cell_type": "code",
   "execution_count": 39,
   "metadata": {},
   "outputs": [],
   "source": [
    "import os\n",
    "import random\n",
    "import shap\n",
    "import torch.nn as nn \n",
    "import re\n",
    "from torchsampler import ImbalancedDatasetSampler\n",
    "from sklearn.metrics import accuracy_score\n",
    "from sklearn.metrics import f1_score\n",
    "from sklearn.metrics import precision_score\n",
    "from sklearn.metrics import recall_score\n",
    "from sklearn.metrics import confusion_matrix\n",
    "from sklearn.metrics import ConfusionMatrixDisplay\n",
    "from sklearn.metrics import roc_auc_score\n",
    "from torch import optim\n",
    "from torch.utils.data import Dataset, DataLoader\n",
    "import numpy as np\n",
    "import pandas as pd\n",
    "import warnings\n",
    "import matplotlib.pyplot as plt\n",
    "import torch\n",
    "from imblearn.over_sampling import SMOTE\n",
    "from IPython.display import clear_output\n",
    "from sklearn.decomposition import PCA\n",
    "from pytorch_metric_learning import losses\n",
    "# from sklearn.preprocessing import MinMaxScaler\n",
    "# import math\n",
    "# import time\n",
    "# import json\n",
    "# from datetime import datetime\n",
    "# from sklearn.cluster import KMeans\n",
    "warnings.filterwarnings(\"ignore\")\n"
   ]
  },
  {
   "cell_type": "code",
   "execution_count": 40,
   "metadata": {},
   "outputs": [
    {
     "name": "stdout",
     "output_type": "stream",
     "text": [
      "cuda:0\n"
     ]
    }
   ],
   "source": [
    "device = torch.device('cuda:0' if torch.cuda.is_available() else 'cpu')\n",
    "# device = \"cpu\"\n",
    "print(device)"
   ]
  },
  {
   "cell_type": "code",
   "execution_count": 41,
   "metadata": {},
   "outputs": [],
   "source": [
    "LLM = \"bert-base-uncased\"\n",
    "# LLM = \"bert-large-uncased\"\n",
    "# LLM = \"albert\"\n",
    "# LLM = \"roberta\"\n",
    "# LLM = \"xlm\""
   ]
  },
  {
   "cell_type": "code",
   "execution_count": 42,
   "metadata": {},
   "outputs": [],
   "source": [
    "lv1_lv3 = dict({0:0, 1:0, 2:0, 3:0, 4:0, 5:1, 6:1, 7:1, 8:1, 9:1, 10:1, 11:1, 12:1, 13:2, 14:2, 15:2, 16:2, 17:2, 18:2})"
   ]
  },
  {
   "cell_type": "code",
   "execution_count": 43,
   "metadata": {},
   "outputs": [],
   "source": [
    "class DATA():\n",
    "\n",
    "    def __init__(self):\n",
    "        self.dataset_llm = []\n",
    "        self.dataset_opensmile = []\n",
    "        self.dataset_cps_f = []\n",
    "        self.dataset_cps_i = []\n",
    "        self.dataset_action = []\n",
    "        self.dataset_gamr = []\n",
    "\n",
    "        self.targets = []\n",
    "\n",
    "    def openLLM(self, filename):\n",
    "        data = pd.read_csv(filename)\n",
    "        for i in range(len(data)):\n",
    "            self.dataset_llm.append(np.asarray(data.iloc[i]).tolist())\n",
    "        global llm_size\n",
    "        llm_size = len(self.dataset_llm[-1])\n",
    "    \n",
    "    \n",
    "    def openSmile(self,filename):\n",
    "        data = pd.read_csv(filename)\n",
    "        for i in range (data.shape[0]):\n",
    "            # print(f'C:\\\\Users\\\\Bbykitty\\\\OneDrive - Colostate\\\\Research\\\\Initial Observations for Fib Weights\\\\Data\\\\Segment Analysis\\\\{filename[filename.index(\"Group_\"):filename.index(\"Group_\")+8]}\\\\segments_oracle\\\\{filename[filename.index(\"Group_\"):filename.index(\"Group_\")+8]}_'+str(i)+'.wav')\n",
    "            row=data[data['file']==f'C:\\\\Users\\\\bradf\\\\OneDrive - Colostate\\\\Research\\\\Initial Observations for Fib Weights\\\\Data\\\\Segment Analysis\\\\{filename[filename.index(\"Group_\"):filename.index(\"Group_\")+8]}\\\\segments_oracle\\\\{filename[filename.index(\"Group_\"):filename.index(\"Group_\")+8]}_'+str(i)+'.wav']\n",
    "            tensor=np.nan_to_num(np.asarray(row.values[0][3:91],dtype=np.float32)).tolist()\n",
    "            self.dataset_opensmile.append(tensor)\n",
    "\n",
    "\n",
    "    def openCPS(self, filename):\n",
    "        data = pd.read_csv(filename).fillna(0)\n",
    "        for row in range(data.shape[0]):\n",
    "            cps = data.iloc[row, 8:].fillna(0)\n",
    "            self.dataset_cps_i.append(list(cps.values))\n",
    "            cps_f = [0, 0, 0]\n",
    "            for i, c in enumerate(list(cps.values)):\n",
    "                if c == 1:\n",
    "                    cps_f[lv1_lv3[i]] = 1\n",
    "            self.dataset_cps_f.append(cps_f)\n",
    "\n",
    "    def openAction(self, filename):\n",
    "        data = pd.read_csv(filename, header=None).fillna(0)\n",
    "        for row in range(data.shape[0]):\n",
    "            self.dataset_action.append(data.iloc[row].to_list())\n",
    "\n",
    "\n",
    "\n",
    "    def openGAMR(self, filename):\n",
    "        data = pd.read_csv(filename, header=None).fillna(0)\n",
    "        for row in range(data.shape[0]):\n",
    "            self.dataset_gamr.append(data.iloc[row].to_list())\n",
    "        \n",
    "\n",
    "    def openTarget(self,filename):\n",
    "        data = pd.read_csv(filename)\n",
    "        for row in range(data.shape[0]):\n",
    "            target = data.iloc[row, 3:].values.astype(int)\n",
    "            self.targets.append(target.tolist())\n",
    "\n",
    "\n",
    "    def get_datasets(self, rand=False):\n",
    "        final_dataset=[]        \n",
    "        for llm, opensmile, cps_f, cps_i, action, gamr, label in zip(self.dataset_llm, self.dataset_opensmile,self.dataset_cps_f, self.dataset_cps_i, self.dataset_action, self.dataset_gamr, self.targets):\n",
    "            final_dataset.append([llm, opensmile, cps_f, cps_i, action, gamr, label])\n",
    "            \n",
    "        if rand:\n",
    "            random.shuffle(final_dataset)\n",
    "        return final_dataset"
   ]
  },
  {
   "cell_type": "code",
   "execution_count": 44,
   "metadata": {},
   "outputs": [],
   "source": [
    "def read_data(dataset, root, file, llm=\"bert-base-uncased\"):\n",
    "\n",
    "    if llm in file:\n",
    "        dataset.openLLM(root+\"/\"+file)\n",
    "    if 'oracle_opensmile' in file:\n",
    "        dataset.openSmile(root+\"/\"+file)\n",
    "    elif 'CPS_Oracle' in file:\n",
    "        dataset.openCPS(root+\"/\"+file)\n",
    "    elif \"Actions_Oracle_vectors\" in file:\n",
    "        dataset.openAction(root+\"/\"+file)\n",
    "    elif \"GAMR_Oracle_vectors\" in file:\n",
    "        dataset.openGAMR(root+\"/\"+file)\n",
    "    elif 'CG_3.csv' in file:\n",
    "        dataset.openTarget(root+\"/\"+file)\n",
    "        "
   ]
  },
  {
   "cell_type": "code",
   "execution_count": 45,
   "metadata": {},
   "outputs": [],
   "source": [
    "train_datasets = DATA()"
   ]
  },
  {
   "cell_type": "code",
   "execution_count": 46,
   "metadata": {},
   "outputs": [
    {
     "name": "stdout",
     "output_type": "stream",
     "text": [
      "i:\\My Drive\\CSU\\iSAT\\Common Ground\\Group_04\n"
     ]
    },
    {
     "name": "stdout",
     "output_type": "stream",
     "text": [
      "i:\\My Drive\\CSU\\iSAT\\Common Ground\\Group_05\n",
      "i:\\My Drive\\CSU\\iSAT\\Common Ground\\Group_06\n",
      "i:\\My Drive\\CSU\\iSAT\\Common Ground\\Group_08\n",
      "i:\\My Drive\\CSU\\iSAT\\Common Ground\\Group_01\n",
      "i:\\My Drive\\CSU\\iSAT\\Common Ground\\Group_07\n",
      "i:\\My Drive\\CSU\\iSAT\\Common Ground\\Group_09\n",
      "i:\\My Drive\\CSU\\iSAT\\Common Ground\\Group_10\n",
      "i:\\My Drive\\CSU\\iSAT\\Common Ground\\Group_02\n",
      "i:\\My Drive\\CSU\\iSAT\\Common Ground\\Group_03\n"
     ]
    }
   ],
   "source": [
    "for root, dirs,files in (os.walk(os. getcwd())):\n",
    "    if \"Group_\" in root and \"data\" not in root:\n",
    "        if \"asr\" not in root:\n",
    "            print(root)\n",
    "            for file in files:\n",
    "                read_data(train_datasets, root, file, LLM)"
   ]
  },
  {
   "cell_type": "code",
   "execution_count": 47,
   "metadata": {},
   "outputs": [
    {
     "data": {
      "text/plain": [
       "True"
      ]
     },
     "execution_count": 47,
     "metadata": {},
     "output_type": "execute_result"
    }
   ],
   "source": [
    "len(train_datasets.dataset_llm) == len(train_datasets.dataset_opensmile) == len(train_datasets.dataset_cps_f) == len(train_datasets.dataset_cps_i) == len(train_datasets.dataset_action) == len(train_datasets.dataset_gamr) == len(train_datasets.targets)"
   ]
  },
  {
   "cell_type": "code",
   "execution_count": 48,
   "metadata": {},
   "outputs": [
    {
     "data": {
      "text/plain": [
       "157"
      ]
     },
     "execution_count": 48,
     "metadata": {},
     "output_type": "execute_result"
    }
   ],
   "source": [
    "np.sum(np.asarray(train_datasets.targets))"
   ]
  },
  {
   "cell_type": "code",
   "execution_count": 49,
   "metadata": {},
   "outputs": [
    {
     "data": {
      "text/plain": [
       "array([88, 65,  4])"
      ]
     },
     "execution_count": 49,
     "metadata": {},
     "output_type": "execute_result"
    }
   ],
   "source": [
    "np.sum(np.asarray(train_datasets.targets), axis=0)"
   ]
  },
  {
   "cell_type": "code",
   "execution_count": 50,
   "metadata": {},
   "outputs": [],
   "source": [
    "def change_window_size(train_list, window_size):\n",
    "    rec_train_list = []\n",
    "    pad = [[0]*len(train_list[0][0]), [0]*len(train_list[0][1])]\n",
    "\n",
    "    for utt_id in range(len(train_list)):\n",
    "        aux = []\n",
    "        for i in range(window_size):\n",
    "            if utt_id == i:\n",
    "                for _ in range(window_size-utt_id):\n",
    "                    aux.append(pad)\n",
    "        for i in range(window_size):\n",
    "            if len(aux) == i:\n",
    "                aux.append(train_list[utt_id - window_size + i])\n",
    "        aux.append(train_list[utt_id])\n",
    "        rec_train_list.append(aux)\n",
    "    \n",
    "    return rec_train_list"
   ]
  },
  {
   "cell_type": "code",
   "execution_count": 51,
   "metadata": {},
   "outputs": [],
   "source": [
    "window_size = 3"
   ]
  },
  {
   "cell_type": "code",
   "execution_count": 52,
   "metadata": {},
   "outputs": [],
   "source": [
    "def get_data(k, j, window_size):\n",
    "    full_data = []\n",
    "    for group in range(1, 11):\n",
    "        if group != k and group != j:\n",
    "            train_datasets = DATA()\n",
    "            for root, dirs,files in (os.walk(os. getcwd())):\n",
    "                if f\"Group_{group:02d}\" in root and \"data\" not in root:\n",
    "                    if \"asr\" not in root:\n",
    "                        print(root)\n",
    "                        for file in files:\n",
    "                            read_data(train_datasets, root, file, LLM)\n",
    "            train_list = train_datasets.get_datasets()\n",
    "            train_list = [[a+b+c+d+e+f, g] for a,b,c,d,e,f,g in train_list]\n",
    "            rec_train_list = change_window_size(train_list, window_size)\n",
    "            full_data += rec_train_list\n",
    "        # random.shuffle(full_data)\n",
    "    return full_data"
   ]
  },
  {
   "cell_type": "code",
   "execution_count": 53,
   "metadata": {},
   "outputs": [],
   "source": [
    "def get_group_k(k, window_size):\n",
    "    full_data = []\n",
    "    group = k\n",
    "    train_datasets = DATA()\n",
    "    for root, dirs,files in (os.walk(os. getcwd())):\n",
    "        if f\"Group_{group:02d}\" in root and \"data\" not in root:\n",
    "            if \"asr\" not in root:\n",
    "                print(root)\n",
    "                for file in files:\n",
    "                    read_data(train_datasets, root, file, LLM)\n",
    "    train_list = train_datasets.get_datasets()\n",
    "    train_list = [[a+b+c+d+e+f, g] for a,b,c,d,e,f,g in train_list]\n",
    "    rec_train_list = change_window_size(train_list, window_size)\n",
    "    full_data += rec_train_list\n",
    "    # random.shuffle(full_data)\n",
    "    return full_data"
   ]
  },
  {
   "cell_type": "code",
   "execution_count": 54,
   "metadata": {},
   "outputs": [],
   "source": [
    "# Uncomment to remove utterances with no CGA\n",
    "def remove_non_cga(full_data):\n",
    "    utt_id = 0\n",
    "    while utt_id  < (len(full_data)):\n",
    "        if full_data[utt_id][-1][1] == [0, 0, 0]:\n",
    "            del full_data[utt_id]\n",
    "        else:\n",
    "            utt_id += 1\n",
    "    return full_data"
   ]
  },
  {
   "cell_type": "code",
   "execution_count": 55,
   "metadata": {},
   "outputs": [
    {
     "name": "stdout",
     "output_type": "stream",
     "text": [
      "i:\\My Drive\\CSU\\iSAT\\Common Ground\\Group_01\n"
     ]
    },
    {
     "name": "stdout",
     "output_type": "stream",
     "text": [
      "i:\\My Drive\\CSU\\iSAT\\Common Ground\\Group_03\n",
      "i:\\My Drive\\CSU\\iSAT\\Common Ground\\Group_04\n",
      "i:\\My Drive\\CSU\\iSAT\\Common Ground\\Group_06\n",
      "i:\\My Drive\\CSU\\iSAT\\Common Ground\\Group_07\n",
      "i:\\My Drive\\CSU\\iSAT\\Common Ground\\Group_08\n",
      "i:\\My Drive\\CSU\\iSAT\\Common Ground\\Group_09\n",
      "i:\\My Drive\\CSU\\iSAT\\Common Ground\\Group_10\n",
      "i:\\My Drive\\CSU\\iSAT\\Common Ground\\Group_02\n",
      "i:\\My Drive\\CSU\\iSAT\\Common Ground\\Group_05\n"
     ]
    }
   ],
   "source": [
    "test_group = 2 # Must hold out group 2 (it contains 1 of each class which we need for auroc)\n",
    "val_group = 5\n",
    "train_data = get_data(test_group, val_group, window_size)\n",
    "test_data = get_group_k(test_group, window_size)\n",
    "val_data = get_group_k(val_group, window_size)"
   ]
  },
  {
   "cell_type": "code",
   "execution_count": 56,
   "metadata": {},
   "outputs": [],
   "source": [
    "train_data = remove_non_cga(train_data)\n",
    "test_data = remove_non_cga(test_data)\n",
    "val_data = remove_non_cga(val_data)"
   ]
  },
  {
   "cell_type": "code",
   "execution_count": 57,
   "metadata": {},
   "outputs": [],
   "source": [
    "class rec_dataset(Dataset):\n",
    "    def __init__(self,xy=None, window_size=3):\n",
    "        self.utt_bert_l = []\n",
    "        self.utt_open_l = []\n",
    "        self.utt_cps_f_l = []\n",
    "        self.utt_cps_i_l = []\n",
    "        self.utt_action_l = []\n",
    "        self.utt_gamr_l = []\n",
    "        self.utt_y_l = []\n",
    "        self.utt_y = []\n",
    "\n",
    "        for utt in xy:\n",
    "            bert_tmp = []\n",
    "            open_tmp = []\n",
    "            cps_i_tmp = []\n",
    "            cps_f_tmp = []\n",
    "            action_tmp = []\n",
    "            gamr_tmp = []\n",
    "            y_tmp = []\n",
    "            for utt_id in range(window_size+1):\n",
    "                bert_tmp.append(utt[utt_id][0][:llm_size])\n",
    "                open_tmp.append(utt[utt_id][0][llm_size:llm_size+88])\n",
    "                cps_i_tmp.append(utt[utt_id][0][llm_size+88:llm_size+88+19])\n",
    "                cps_f_tmp.append(utt[utt_id][0][llm_size+88+19:llm_size+88+19+3])\n",
    "                action_tmp.append(utt[utt_id][0][llm_size+88+19+3:llm_size+88+19+3+78])\n",
    "                gamr_tmp.append(utt[utt_id][0][llm_size+88+19+3+78:])\n",
    "                y_tmp.append(utt[utt_id][1])\n",
    "            self.utt_bert_l.append(bert_tmp)\n",
    "            self.utt_open_l.append(open_tmp)\n",
    "            self.utt_cps_f_l.append(cps_f_tmp)\n",
    "            self.utt_cps_i_l.append(cps_i_tmp)\n",
    "            self.utt_action_l.append(action_tmp)\n",
    "            self.utt_gamr_l.append(gamr_tmp)\n",
    "            self.utt_y_l.append(y_tmp)\n",
    "        self.utt_bert_l = torch.from_numpy(np.asarray(self.utt_bert_l,dtype=np.float32))\n",
    "        self.utt_open_l = torch.from_numpy(np.asarray(self.utt_open_l,dtype=np.float32))\n",
    "        self.utt_cps_f_l = torch.from_numpy(np.asarray(self.utt_cps_f_l,dtype=np.float32))\n",
    "        self.utt_cps_i_l = torch.from_numpy(np.asarray(self.utt_cps_i_l,dtype=np.float32))\n",
    "        self.utt_action_l = torch.from_numpy(np.asarray(self.utt_action_l,dtype=np.float32))\n",
    "        self.utt_gamr_l = torch.from_numpy(np.asarray(self.utt_gamr_l,dtype=np.float32))\n",
    "        self.utt_y_l = torch.from_numpy(np.asarray(self.utt_y_l,dtype=np.float32))\n",
    "\n",
    "        for utt_id in range(len(self.utt_y_l)):\n",
    "            self.utt_y.append(self.utt_y_l[utt_id][-1])\n",
    "\n",
    "        self.len=len(self.utt_bert_l)\n",
    "        \n",
    "\n",
    "    def __getitem__(self, index):\n",
    "        return self.utt_bert_l[index], self.utt_open_l[index], self.utt_cps_f_l[index], self.utt_cps_i_l[index], self.utt_action_l[index], self.utt_gamr_l[index], self.utt_y[index]\n",
    "    \n",
    "    def get_labels(self):\n",
    "        return np.stack(self.utt_y, axis=0).argmax(axis=1)\n",
    "\n",
    "    def __len__(self):\n",
    "        return self.len"
   ]
  },
  {
   "cell_type": "code",
   "execution_count": 58,
   "metadata": {},
   "outputs": [],
   "source": [
    "train_dataset = rec_dataset(train_data, window_size)\n",
    "test_dataset = rec_dataset(test_data, window_size)\n",
    "val_dataset = rec_dataset(val_data, window_size)"
   ]
  },
  {
   "cell_type": "code",
   "execution_count": 59,
   "metadata": {},
   "outputs": [],
   "source": [
    "def smote_preprocess(train_dataset, window_size):\n",
    "    x_bert = []\n",
    "    x_open = []\n",
    "    x_cps_i = []\n",
    "    x_cps_f = []\n",
    "    x_action = []\n",
    "    x_gamr = []\n",
    "    y = []\n",
    "    for i in range(len(train_dataset)):\n",
    "        x_bert_tmp = []\n",
    "        x_open_tmp = []\n",
    "        x_cps_i_tmp = []\n",
    "        x_cps_f_tmp = []\n",
    "        x_action_tmp = []\n",
    "        x_gamr_tmp = []\n",
    "        for j in range(len(train_dataset.utt_open_l[i])):\n",
    "            x_bert_tmp += train_dataset.utt_bert_l[i][j].tolist()\n",
    "            x_open_tmp += train_dataset.utt_open_l[i][j].tolist()\n",
    "            x_cps_i_tmp += train_dataset.utt_cps_i_l[i][j].tolist()\n",
    "            x_cps_f_tmp += train_dataset.utt_cps_f_l[i][j].tolist()\n",
    "            x_action_tmp += train_dataset.utt_action_l[i][j].tolist()\n",
    "            x_gamr_tmp += train_dataset.utt_gamr_l[i][j].tolist()\n",
    "\n",
    "        y.append(train_dataset.utt_y[i].tolist())\n",
    "        x_bert.append(x_bert_tmp)\n",
    "        x_open.append(x_open_tmp)\n",
    "        x_cps_i.append(x_cps_i_tmp)\n",
    "        x_cps_f.append(x_cps_f_tmp)\n",
    "        x_action.append(x_action_tmp)\n",
    "        x_gamr.append(x_gamr_tmp)\n",
    "\n",
    "        if y[-1] == [0, 0, 1]:\n",
    "            for _ in range(2):\n",
    "                y.append(train_dataset.utt_y[i].tolist())\n",
    "                x_bert.append(x_bert_tmp)\n",
    "                x_open.append(x_open_tmp)\n",
    "                x_cps_i.append(x_cps_i_tmp)\n",
    "                x_cps_f.append(x_cps_f_tmp)\n",
    "                x_action.append(x_action_tmp)\n",
    "                x_gamr.append(x_gamr_tmp)\n",
    "        \n",
    "\n",
    "    oversample = SMOTE()\n",
    "\n",
    "    x_bert, y_ = oversample.fit_resample(np.array(x_bert), np.array(y))\n",
    "    x_open, y_ = oversample.fit_resample(np.array(x_open), np.array(y))\n",
    "    x_cps_i, y_ = oversample.fit_resample(np.array(x_cps_i), np.array(y))\n",
    "    x_cps_f, y_ = oversample.fit_resample(np.array(x_cps_f), np.array(y))\n",
    "    x_action, y_ = oversample.fit_resample(np.array(x_action), np.array(y))\n",
    "    x_gamr, y_ = oversample.fit_resample(np.array(x_gamr), np.array(y))\n",
    "    clear_output(wait=False)\n",
    "\n",
    "\n",
    "\n",
    "    x_bert_tensor = []\n",
    "    x_open_tensor = []\n",
    "    x_cps_i_tensor = []\n",
    "    x_cps_f_tensor = []\n",
    "    x_action_tensor = []\n",
    "    x_gamr_tensor = []\n",
    "    y = []\n",
    "    for i in range(len(x_bert)):\n",
    "        x_bert_tmp = []\n",
    "        x_open_tmp = []\n",
    "        x_cps_i_tmp = []\n",
    "        x_cps_f_tmp = []\n",
    "        x_action_tmp = []\n",
    "        x_gamr_tmp = []\n",
    "        for utt_id in range(window_size+1):\n",
    "            bert_size = int(len(x_bert[i])/(window_size + 1))\n",
    "            open_size = int(len(x_open[i])/(window_size + 1))\n",
    "            cps_i_size = int(len(x_cps_i[i])/(window_size + 1))\n",
    "            cps_f_size = int(len(x_cps_f[i])/(window_size + 1))\n",
    "            action_size = int(len(x_action[i])/(window_size + 1))\n",
    "            gamr_size = int(len(x_gamr[i])/(window_size + 1))\n",
    "\n",
    "            x_bert_tmp.append(x_bert[i][utt_id*bert_size:(utt_id+1)*bert_size])\n",
    "            x_open_tmp.append(x_open[i][utt_id*open_size:(utt_id+1)*open_size])\n",
    "            x_cps_i_tmp.append(x_cps_i[i][utt_id*cps_i_size:(utt_id+1)*cps_i_size])\n",
    "            x_cps_f_tmp.append(x_cps_f[i][utt_id*cps_f_size:(utt_id+1)*cps_f_size])\n",
    "            x_action_tmp.append(x_action[i][utt_id*action_size:(utt_id+1)*action_size])\n",
    "            x_gamr_tmp.append(x_gamr[i][utt_id*gamr_size:(utt_id+1)*gamr_size])\n",
    "\n",
    "        x_bert_tensor.append(x_bert_tmp)\n",
    "        x_open_tensor.append(x_open_tmp)\n",
    "        x_cps_i_tensor.append(x_cps_i_tmp)\n",
    "        x_cps_f_tensor.append(x_cps_f_tmp)\n",
    "        x_action_tensor.append(x_action_tmp)\n",
    "        x_gamr_tensor.append(x_gamr_tmp)\n",
    "        y.append(torch.Tensor(y_[i]))\n",
    "\n",
    "    x_bert_tensor = torch.from_numpy(np.array(x_bert_tensor, dtype=np.float32))\n",
    "    x_open_tensor = torch.from_numpy(np.array(x_open_tensor, dtype=np.float32))\n",
    "    x_cps_i_tensor = torch.from_numpy(np.array(x_cps_i_tensor, dtype=np.float32))\n",
    "    x_cps_f_tensor = torch.from_numpy(np.array(x_cps_f_tensor, dtype=np.float32))\n",
    "    x_action_tensor = torch.from_numpy(np.array(x_action_tensor, dtype=np.float32))\n",
    "    x_gamr_tensor = torch.from_numpy(np.array(x_gamr_tensor, dtype=np.float32))\n",
    "\n",
    "\n",
    "    train_dataset.utt_bert_l = x_bert_tensor\n",
    "    train_dataset.utt_open_l = x_open_tensor\n",
    "    train_dataset.utt_cps_i_l = x_cps_i_tensor\n",
    "    train_dataset.utt_cps_f_l = x_cps_f_tensor\n",
    "    train_dataset.utt_action_l = x_action_tensor\n",
    "    train_dataset.utt_gamr_l = x_gamr_tensor\n",
    "    train_dataset.utt_y = y\n",
    "    train_dataset.len = len(train_dataset.utt_y)"
   ]
  },
  {
   "cell_type": "code",
   "execution_count": 60,
   "metadata": {},
   "outputs": [],
   "source": [
    "smote_preprocess(train_dataset, window_size)"
   ]
  },
  {
   "cell_type": "code",
   "execution_count": 61,
   "metadata": {},
   "outputs": [],
   "source": [
    "# rec_train_loader = DataLoader(dataset=train_dataset, sampler=ImbalancedDatasetSampler(train_dataset),batch_size=16)\n",
    "# rec_test_loader = DataLoader(dataset=test_dataset, sampler=ImbalancedDatasetSampler(test_dataset),batch_size=16)\n",
    "rec_train_loader = DataLoader(dataset=train_dataset, batch_size=16, shuffle=True)\n",
    "rec_test_loader = DataLoader(dataset=test_dataset, batch_size=16, shuffle=False)\n",
    "rec_val_loader = DataLoader(dataset=val_dataset, batch_size=16, shuffle=False)"
   ]
  },
  {
   "cell_type": "code",
   "execution_count": 62,
   "metadata": {},
   "outputs": [],
   "source": [
    "# y_train = rec_dataset(rec_train_list, window_size).utt_y\n",
    "y_train = train_dataset.utt_y"
   ]
  },
  {
   "cell_type": "code",
   "execution_count": 63,
   "metadata": {},
   "outputs": [],
   "source": [
    "y_train_tensor = torch.stack(y_train)"
   ]
  },
  {
   "cell_type": "code",
   "execution_count": 64,
   "metadata": {},
   "outputs": [
    {
     "name": "stdout",
     "output_type": "stream",
     "text": [
      "(tensor([0, 1, 2]), tensor([77, 77, 77]))\n"
     ]
    }
   ],
   "source": [
    "print(y_train_tensor.argmax(dim=1).unique(return_counts=True))"
   ]
  },
  {
   "cell_type": "code",
   "execution_count": 65,
   "metadata": {},
   "outputs": [],
   "source": [
    "class rec_common_ground(nn.Module):\n",
    "    def __init__(self, hyperparam, modalities, output_size=1):\n",
    "        super(rec_common_ground, self).__init__()\n",
    "\n",
    "        lin_layers = hyperparam[\"lin_layers\"]\n",
    "        hidden_size = hyperparam[\"hidden_size\"]\n",
    "        lstm_hidden_size = hyperparam[\"lstm_hidden_size\"]\n",
    "        lstm_input_size = hyperparam[\"lstm_input_size\"]\n",
    "        ff1_size = hyperparam[\"ff1_size\"]\n",
    "        ff2_size = hyperparam[\"ff2_size\"]\n",
    "\n",
    "        bert_b = modalities[\"bert_b\"]\n",
    "        opensmile_b = modalities[\"opensmile_b\"]\n",
    "        cps_b = modalities[\"cps_b\"]\n",
    "        cps_f_b = modalities[\"cps_f_b\"]\n",
    "        action_b = modalities[\"action_b\"]\n",
    "        gamr_b = modalities[\"gamr_b\"]\n",
    "\n",
    "        self.lin_bert1 = nn.Linear(llm_size, hidden_size)\n",
    "        self.lin_bert2 = nn.Linear(hidden_size, lstm_input_size)\n",
    "        self.lstm_bert = nn.LSTM(input_size=lstm_input_size, batch_first=True, hidden_size=lstm_hidden_size)\n",
    "        if not lin_layers:\n",
    "            self.lstm_bert = nn.LSTM(input_size=llm_size, batch_first=True, hidden_size=lstm_hidden_size)\n",
    "\n",
    "\n",
    "        self.lin_open1 = nn.Linear(88, hidden_size)\n",
    "        self.lin_open2 = nn.Linear(hidden_size, lstm_input_size)\n",
    "        self.lstm_opensmile = nn.LSTM(input_size=lstm_input_size, batch_first=True, hidden_size=lstm_hidden_size)\n",
    "        if not lin_layers:\n",
    "            self.lstm_opensmile = nn.LSTM(input_size=88, batch_first=True, hidden_size=lstm_hidden_size)\n",
    "\n",
    "        cps_size = 19\n",
    "        if cps_f_b:\n",
    "            cps_size = 3\n",
    "        self.lin_cps1 = nn.Linear(cps_size, hidden_size)\n",
    "        self.lin_cps2 = nn.Linear(hidden_size, lstm_input_size)\n",
    "        self.lstm_cps = nn.LSTM(input_size=lstm_input_size, batch_first=True, hidden_size=lstm_hidden_size)\n",
    "        if not lin_layers:\n",
    "            self.lstm_cps = nn.LSTM(input_size=cps_size, batch_first=True, hidden_size=lstm_hidden_size)\n",
    "\n",
    "\n",
    "        self.lin_action1 = nn.Linear(78, hidden_size)\n",
    "        self.lin_action2 = nn.Linear(hidden_size, lstm_input_size)\n",
    "        self.lstm_action = nn.LSTM(input_size=lstm_input_size, batch_first=True, hidden_size=lstm_hidden_size)\n",
    "        if not lin_layers:\n",
    "            self.lstm_action = nn.LSTM(input_size=78, batch_first=True, hidden_size=lstm_hidden_size)\n",
    "\n",
    "        self.lin_gamr1 = nn.Linear(243, hidden_size)\n",
    "        self.lin_gamr2 = nn.Linear(hidden_size, lstm_input_size)\n",
    "        self.lstm_gamr = nn.LSTM(input_size=lstm_input_size, batch_first=True, hidden_size=lstm_hidden_size)\n",
    "        if not lin_layers:\n",
    "            self.lstm_gamr = nn.LSTM(input_size=243, batch_first=True, hidden_size=lstm_hidden_size)\n",
    "\n",
    "\n",
    "        self.relu = nn.ReLU()\n",
    "        n_modals = int(bert_b) + int(opensmile_b) + int(cps_b) + int(action_b) + int(gamr_b)\n",
    "        self.ff1 = nn.Linear(lstm_hidden_size*n_modals, ff1_size)\n",
    "        self.ff2 = nn.Linear(ff1_size, ff2_size)\n",
    "        self.act1 = nn.Tanh()\n",
    "        self.act2 = nn.SiLU()\n",
    "        self.classifier = nn.Linear(ff2_size, output_size)\n",
    "\n",
    "\n",
    "    def forward(self, utt_bert_l, utt_open_l, utt_cps_l, utt_action_l, utt_gamr_l, hyperparam, modalities):\n",
    "\n",
    "\n",
    "        lin_layers = hyperparam[\"lin_layers\"]\n",
    "        bert_b = modalities[\"bert_b\"]\n",
    "        opensmile_b = modalities[\"opensmile_b\"]\n",
    "        cps_b = modalities[\"cps_b\"]\n",
    "        cps_f_b = modalities[\"cps_f_b\"]\n",
    "        action_b = modalities[\"action_b\"]\n",
    "        gamr_b = modalities[\"gamr_b\"]\n",
    "\n",
    "\n",
    "        if bert_b:\n",
    "            if lin_layers:\n",
    "                utt_bert_l = [self.lin_bert1(utt_x_bert) for utt_x_bert in utt_bert_l]\n",
    "                utt_bert_l = [self.lin_bert2(utt_x_bert) for utt_x_bert in utt_bert_l]\n",
    "                utt_bert_l = [self.relu(utt_x_bert) for utt_x_bert in utt_bert_l]\n",
    "            bert = torch.stack(tuple(utt_bert_l), dim=0)\n",
    "            bert = self.lstm_bert(bert)[1][0][0]\n",
    "\n",
    "        if opensmile_b:\n",
    "            if lin_layers:\n",
    "                utt_open_l = [self.lin_open1(utt_x_open) for utt_x_open in utt_open_l]\n",
    "                utt_open_l = [self.lin_open2(utt_x_open) for utt_x_open in utt_open_l]\n",
    "                utt_open_l = [self.relu(utt_x_open) for utt_x_open in utt_open_l]\n",
    "            opensmile = torch.stack(tuple(utt_open_l), dim=0)\n",
    "            opensmile = self.lstm_opensmile(opensmile)[1][0][0]\n",
    "\n",
    "        if cps_b:\n",
    "            if lin_layers:\n",
    "                utt_cps_l = [self.lin_cps1(utt_x_cps) for utt_x_cps in utt_cps_l]\n",
    "                utt_cps_l = [self.lin_cps2(utt_x_cps) for utt_x_cps in utt_cps_l]\n",
    "                utt_cps_l = [self.relu(utt_x_cps) for utt_x_cps in utt_cps_l]\n",
    "                # utt_cps_l shape = batch_size, window_size+1, 256\n",
    "            cps = torch.stack(tuple(utt_cps_l), dim=0)\n",
    "            cps = self.lstm_cps(cps)[1][0][0]\n",
    "\n",
    "        if action_b:\n",
    "            if lin_layers:\n",
    "                utt_action_l = [self.lin_action1(utt_x_action) for utt_x_action in utt_action_l]\n",
    "                utt_action_l = [self.lin_action2(utt_x_action) for utt_x_action in utt_action_l]\n",
    "                utt_action_l = [self.relu(utt_x_action) for utt_x_action in utt_action_l]\n",
    "            action = torch.stack(tuple(utt_action_l), dim=0)\n",
    "            action = self.lstm_action(action)[1][0][0]\n",
    "\n",
    "        if gamr_b:\n",
    "            if lin_layers:\n",
    "                utt_gamr_l = [self.lin_gamr1(utt_x_gamr) for utt_x_gamr in utt_gamr_l]\n",
    "                utt_gamr_l = [self.lin_gamr2(utt_x_gamr) for utt_x_gamr in utt_gamr_l]\n",
    "                utt_gamr_l = [self.relu(utt_x_gamr) for utt_x_gamr in utt_gamr_l]\n",
    "            gamr = torch.stack(tuple(utt_gamr_l), dim=0)\n",
    "            gamr = self.lstm_gamr(gamr)[1][0][0]\n",
    "\n",
    "        modals = []\n",
    "        if bert_b: modals.append(bert)\n",
    "        if opensmile_b: modals.append(opensmile)\n",
    "        if cps_b: modals.append(cps)\n",
    "        if action_b: modals.append(action)\n",
    "        if gamr_b: modals.append(gamr)\n",
    "\n",
    "\n",
    "        x = torch.hstack(tuple(modals))\n",
    "        x = self.ff1(x)\n",
    "        x = self.act1(x)\n",
    "        x = self.ff2(x)\n",
    "        x = self.act2(x)\n",
    "        predict = self.classifier(x)\n",
    "\n",
    "        return predict\n",
    "\n",
    "\n",
    "    def get_embeddings(self, utt_bert_l, utt_open_l, utt_cps_l, utt_action_l, utt_gamr_l, hyperparam, modalities):\n",
    "\n",
    "\n",
    "        lin_layers = hyperparam[\"lin_layers\"]\n",
    "        bert_b = modalities[\"bert_b\"]\n",
    "        opensmile_b = modalities[\"opensmile_b\"]\n",
    "        cps_b = modalities[\"cps_b\"]\n",
    "        cps_f_b = modalities[\"cps_f_b\"]\n",
    "        action_b = modalities[\"action_b\"]\n",
    "        gamr_b = modalities[\"gamr_b\"]\n",
    "\n",
    "\n",
    "        if bert_b:\n",
    "            if lin_layers:\n",
    "                utt_bert_l = [self.lin_bert1(utt_x_bert) for utt_x_bert in utt_bert_l]\n",
    "                utt_bert_l = [self.lin_bert2(utt_x_bert) for utt_x_bert in utt_bert_l]\n",
    "                utt_bert_l = [self.relu(utt_x_bert) for utt_x_bert in utt_bert_l]\n",
    "            bert = torch.stack(tuple(utt_bert_l), dim=0)\n",
    "            bert = self.lstm_bert(bert)[1][0][0]\n",
    "\n",
    "        if opensmile_b:\n",
    "            if lin_layers:\n",
    "                utt_open_l = [self.lin_open1(utt_x_open) for utt_x_open in utt_open_l]\n",
    "                utt_open_l = [self.lin_open2(utt_x_open) for utt_x_open in utt_open_l]\n",
    "                utt_open_l = [self.relu(utt_x_open) for utt_x_open in utt_open_l]\n",
    "            opensmile = torch.stack(tuple(utt_open_l), dim=0)\n",
    "            opensmile = self.lstm_opensmile(opensmile)[1][0][0]\n",
    "\n",
    "        if cps_b:\n",
    "            if lin_layers:\n",
    "                utt_cps_l = [self.lin_cps1(utt_x_cps) for utt_x_cps in utt_cps_l]\n",
    "                utt_cps_l = [self.lin_cps2(utt_x_cps) for utt_x_cps in utt_cps_l]\n",
    "                utt_cps_l = [self.relu(utt_x_cps) for utt_x_cps in utt_cps_l]\n",
    "                # utt_cps_l shape = batch_size, window_size+1, 256\n",
    "            cps = torch.stack(tuple(utt_cps_l), dim=0)\n",
    "            cps = self.lstm_cps(cps)[1][0][0]\n",
    "\n",
    "        if action_b:\n",
    "            if lin_layers:\n",
    "                utt_action_l = [self.lin_action1(utt_x_action) for utt_x_action in utt_action_l]\n",
    "                utt_action_l = [self.lin_action2(utt_x_action) for utt_x_action in utt_action_l]\n",
    "                utt_action_l = [self.relu(utt_x_action) for utt_x_action in utt_action_l]\n",
    "            action = torch.stack(tuple(utt_action_l), dim=0)\n",
    "            action = self.lstm_action(action)[1][0][0]\n",
    "\n",
    "        if gamr_b:\n",
    "            if lin_layers:\n",
    "                utt_gamr_l = [self.lin_gamr1(utt_x_gamr) for utt_x_gamr in utt_gamr_l]\n",
    "                utt_gamr_l = [self.lin_gamr2(utt_x_gamr) for utt_x_gamr in utt_gamr_l]\n",
    "                utt_gamr_l = [self.relu(utt_x_gamr) for utt_x_gamr in utt_gamr_l]\n",
    "            gamr = torch.stack(tuple(utt_gamr_l), dim=0)\n",
    "            gamr = self.lstm_gamr(gamr)[1][0][0]\n",
    "\n",
    "        modals = []\n",
    "        if bert_b: modals.append(bert)\n",
    "        if opensmile_b: modals.append(opensmile)\n",
    "        if cps_b: modals.append(cps)\n",
    "        if action_b: modals.append(action)\n",
    "        if gamr_b: modals.append(gamr)\n",
    "\n",
    "\n",
    "        x = torch.hstack(tuple(modals))\n",
    "        x = self.ff1(x)\n",
    "        x = self.act1(x)\n",
    "        x = self.ff2(x)\n",
    "        x = self.act2(x)\n",
    "\n",
    "        return x\n"
   ]
  },
  {
   "cell_type": "code",
   "execution_count": 66,
   "metadata": {},
   "outputs": [],
   "source": [
    "def rec_train(model, total_epochs, lr, train_loader, class_to_eval, hyperparam, modalities, output_size):\n",
    "    \n",
    "    optimizer = optim.Adam(model.parameters(), lr=lr)\n",
    "    epoch_loss = []\n",
    "    nepochs = 0\n",
    "    cps_f_b = modalities[\"cps_f_b\"]\n",
    "    model.train()\n",
    "\n",
    "    criterion = nn.BCELoss(reduction='mean').to(device)\n",
    "    if output_size != 1:\n",
    "        # criterion = nn.CrossEntropyLoss(weight=class_weights).to(device)\n",
    "        criterion = nn.CrossEntropyLoss().to(device)\n",
    "    while nepochs < total_epochs :\n",
    "        batch_loss = []\n",
    "        for utt_bert_l, utt_open_l, utt_cps_f_l, utt_cps_i_l, utt_action_l, utt_gamr_l, utt_y in train_loader:\n",
    "            utt_cps_l = utt_cps_f_l\n",
    "            if not cps_f_b:\n",
    "                utt_cps_l = utt_cps_i_l\n",
    "            output = model(utt_bert_l.to(device), utt_open_l.to(device), utt_cps_l.to(device), utt_action_l.to(device), utt_gamr_l.to(device), hyperparam, modalities).to(device)\n",
    "            # target = utt_y_l[-1].to(device)\n",
    "            target = utt_y.to(device)\n",
    "            if output_size == 1:\n",
    "                target_binary = torch.zeros(target.size()[0], 1).to(device)\n",
    "                for i,t in enumerate(target):\n",
    "                    target_binary[i] = torch.Tensor([t[class_to_eval]])\n",
    "                loss = criterion(torch.sigmoid(output), target_binary)\n",
    "            else:\n",
    "                loss = criterion(output, target)\n",
    "            batch_loss.append(loss)\n",
    "            loss.backward()\n",
    "            optimizer.step()\n",
    "            optimizer.zero_grad()\n",
    "        nepochs += 1\n",
    "        epoch_loss.append(sum(batch_loss)/len(batch_loss))\n",
    "    return model, epoch_loss"
   ]
  },
  {
   "cell_type": "code",
   "execution_count": 67,
   "metadata": {},
   "outputs": [],
   "source": [
    "def rec_test(model, test_loader, class_to_eval, hyperparam, modalities, output_size):\n",
    "    with torch.no_grad():\n",
    "        model.eval()\n",
    "        cps_f_b = modalities[\"cps_f_b\"]\n",
    "        true, pred = None, None\n",
    "        for utt_bert_l, utt_open_l, utt_cps_f_l, utt_cps_i_l, utt_action_l, utt_gamr_l, utt_y in test_loader:\n",
    "            utt_cps_l = utt_cps_f_l\n",
    "            if not cps_f_b:\n",
    "                utt_cps_l = utt_cps_i_l\n",
    "            output = model(utt_bert_l.to(device), utt_open_l.to(device), utt_cps_l.to(device), utt_action_l.to(device), utt_gamr_l.to(device), hyperparam, modalities).to(device)\n",
    "            # target = utt_y_l[-1].to(device)\n",
    "            target = utt_y.to(device)\n",
    "            if output_size == 1:\n",
    "                pred_tmp = torch.sigmoid(output)\n",
    "                true_binary = torch.zeros(target.size()[0], 1)\n",
    "                for i, t in enumerate(target):\n",
    "                    true_binary[i] = torch.Tensor([t[class_to_eval]])\n",
    "                if true == None:\n",
    "                    true = true_binary\n",
    "                    pred = pred_tmp > 0.5\n",
    "                    pred_probs = pred_tmp\n",
    "\n",
    "                else :\n",
    "                    true = torch.cat((true, true_binary))\n",
    "                    pred = torch.cat((pred, pred_tmp > 0.5))\n",
    "                    pred_probs = torch.cat((pred_probs, pred_tmp))\n",
    "                    \n",
    "            \n",
    "            else:\n",
    "                softmax = torch.nn.Softmax(dim=1)\n",
    "                target_ = torch.clone(target)\n",
    "                true_tmp = target_.cpu().numpy()\n",
    "                preds_tmp = softmax(output).cpu().detach().numpy()\n",
    "\n",
    "                if true == None:\n",
    "                    true = torch.argmax(torch.from_numpy(true_tmp), dim=1)\n",
    "                    pred = torch.argmax(torch.from_numpy(preds_tmp), dim=1)\n",
    "                    pred_probs = torch.tensor(preds_tmp)\n",
    "                else:\n",
    "                    true = torch.cat((true, torch.argmax(torch.from_numpy(true_tmp), dim=1)))\n",
    "                    pred = torch.cat((pred, torch.argmax(torch.from_numpy(preds_tmp), dim=1)))\n",
    "                    pred_probs = torch.cat((pred_probs, torch.tensor(preds_tmp)))\n",
    "        \n",
    "    return true.int().cpu(), pred.int().cpu(), pred_probs.cpu()\n"
   ]
  },
  {
   "cell_type": "code",
   "execution_count": 68,
   "metadata": {},
   "outputs": [],
   "source": [
    "# model weight initialization\n",
    "def model_initilization(model):\n",
    "    torch.cuda.manual_seed(44)\n",
    "    b = True\n",
    "    for layer in model.modules():\n",
    "        if b:\n",
    "            b = False\n",
    "        else:\n",
    "            try:\n",
    "                torch.nn.init.xavier_uniform(layer.weight)\n",
    "                layer.bias.data.fill_(0.01)\n",
    "            except:\n",
    "                continue\n",
    "    return model"
   ]
  },
  {
   "cell_type": "code",
   "execution_count": 69,
   "metadata": {},
   "outputs": [],
   "source": [
    "hyperparam = {\"lin_layers\":True, \"hidden_size\":512, \"lstm_hidden_size\":512, \"lstm_input_size\":128, \"ff1_size\":256, \"ff2_size\":384}\n",
    "modalities = {\"bert_b\":True, \"opensmile_b\":True, \"cps_b\":True, \"cps_f_b\":True, \"action_b\":True, \"gamr_b\":True}"
   ]
  },
  {
   "cell_type": "code",
   "execution_count": 70,
   "metadata": {},
   "outputs": [],
   "source": [
    "output_size = 3\n",
    "model = rec_common_ground(hyperparam, modalities, output_size=output_size)\n",
    "model.to(device)\n",
    "model = model_initilization(model)"
   ]
  },
  {
   "cell_type": "code",
   "execution_count": 71,
   "metadata": {},
   "outputs": [],
   "source": [
    "model = torch.load(\"multinomial_3.pt\")"
   ]
  },
  {
   "cell_type": "code",
   "execution_count": 72,
   "metadata": {},
   "outputs": [],
   "source": [
    "# model, epoch_loss = rec_train(model, 200, 0.0001, rec_train_loader, 2, hyperparam, modalities, output_size)"
   ]
  },
  {
   "cell_type": "code",
   "execution_count": 73,
   "metadata": {},
   "outputs": [],
   "source": [
    "# epoch_loss"
   ]
  },
  {
   "cell_type": "code",
   "execution_count": 74,
   "metadata": {},
   "outputs": [],
   "source": [
    "true, pred, pred_probs = rec_test(model, rec_test_loader, 2, hyperparam, modalities, output_size)"
   ]
  },
  {
   "cell_type": "code",
   "execution_count": 75,
   "metadata": {},
   "outputs": [
    {
     "name": "stdout",
     "output_type": "stream",
     "text": [
      "(tensor([0, 1, 2], dtype=torch.int32), tensor([5, 6, 2]))\n",
      "(tensor([0, 1], dtype=torch.int32), tensor([5, 8]))\n"
     ]
    }
   ],
   "source": [
    "print(true.unique(return_counts=True))\n",
    "print(pred.unique(return_counts=True))"
   ]
  },
  {
   "cell_type": "code",
   "execution_count": 76,
   "metadata": {},
   "outputs": [],
   "source": [
    "labels = [\"Statement\", \"Accept\", \"Doubt\"]"
   ]
  },
  {
   "cell_type": "code",
   "execution_count": 77,
   "metadata": {},
   "outputs": [
    {
     "data": {
      "text/plain": [
       "(array([0, 1, 2]),\n",
       " [Text(0, 0, 'Statement'), Text(1, 0, 'Accept'), Text(2, 0, 'Doubt')])"
      ]
     },
     "execution_count": 77,
     "metadata": {},
     "output_type": "execute_result"
    },
    {
     "data": {
      "image/png": "[encoded data removed]",
      "text/plain": [
       "<Figure size 640x480 with 2 Axes>"
      ]
     },
     "metadata": {},
     "output_type": "display_data"
    }
   ],
   "source": [
    "conf_matrix = confusion_matrix(true, pred)\n",
    "ConfusionMatrixDisplay(conf_matrix, display_labels=np.array(labels)[true.unique().tolist()].tolist()).plot()\n",
    "plt.xticks(rotation=-45)"
   ]
  },
  {
   "cell_type": "code",
   "execution_count": 78,
   "metadata": {},
   "outputs": [],
   "source": [
    "true = true.cpu()\n",
    "pred = pred.cpu()\n",
    "accuracy = accuracy_score(true, pred)\n",
    "\n",
    "micro_f1_score = f1_score(true, pred, average=\"micro\")\n",
    "macro_f1_score = f1_score(true, pred, average=\"macro\")\n",
    "weighted_f1_score = f1_score(true, pred, average=\"weighted\")\n",
    "\n",
    "micro_precision = precision_score(true, pred, average=\"micro\")\n",
    "macro_precision = precision_score(true, pred, average=\"macro\")\n",
    "weighted_precision = precision_score(true, pred, average=\"weighted\")\n",
    "\n",
    "micro_recall = recall_score(true, pred, average=\"micro\")\n",
    "macro_recall = recall_score(true, pred, average=\"macro\")\n",
    "weighted_recall = recall_score(true, pred, average=\"weighted\")\n",
    "\n",
    "if output_size == 1:\n",
    "    auroc = roc_auc_score(true.cpu(), pred_probs.cpu())\n",
    "else: \n",
    "    auroc = roc_auc_score(true, pred_probs, multi_class='ovo')"
   ]
  },
  {
   "cell_type": "code",
   "execution_count": 79,
   "metadata": {},
   "outputs": [
    {
     "name": "stdout",
     "output_type": "stream",
     "text": [
      "accuracy : 0.7692\n",
      "\n",
      "micro f1_score : 0.7692\n",
      "macro f1_score : 0.5524\n",
      "weighted f1_score : 0.7033\n",
      "\n",
      "micro precision : 0.7692\n",
      "macro precision : 0.5167\n",
      "weighted precision : 0.6538\n",
      "\n",
      "micro recall : 0.7692\n",
      "macro recall : 0.6000\n",
      "weighted recall : 0.7692\n",
      "\n",
      "auroc : 0.5639\n"
     ]
    }
   ],
   "source": [
    "print(f\"accuracy : {accuracy:.4f}\\n\")\n",
    "\n",
    "print(f\"micro f1_score : {micro_f1_score:.4f}\")\n",
    "print(f\"macro f1_score : {macro_f1_score:.4f}\")\n",
    "print(f\"weighted f1_score : {weighted_f1_score:.4f}\\n\")\n",
    "\n",
    "print(f\"micro precision : {micro_precision:.4f}\")\n",
    "print(f\"macro precision : {macro_precision:.4f}\")\n",
    "print(f\"weighted precision : {weighted_precision:.4f}\\n\")\n",
    "\n",
    "print(f\"micro recall : {micro_recall:.4f}\")\n",
    "print(f\"macro recall : {macro_recall:.4f}\")\n",
    "print(f\"weighted recall : {weighted_recall:.4f}\\n\")\n",
    "\n",
    "print(f\"auroc : {auroc:.4f}\")"
   ]
  },
  {
   "cell_type": "code",
   "execution_count": 80,
   "metadata": {},
   "outputs": [
    {
     "data": {
      "text/plain": [
       "(array([0, 1, 2]),\n",
       " [Text(0, 0, 'Statement'), Text(1, 0, 'Accept'), Text(2, 0, 'Doubt')])"
      ]
     },
     "execution_count": 80,
     "metadata": {},
     "output_type": "execute_result"
    },
    {
     "data": {
      "image/png": "[encoded data removed]",
      "text/plain": [
       "<Figure size 640x480 with 2 Axes>"
      ]
     },
     "metadata": {},
     "output_type": "display_data"
    }
   ],
   "source": [
    "conf_matrix = confusion_matrix(true, pred)\n",
    "ConfusionMatrixDisplay(conf_matrix, display_labels=np.array(labels)[true.unique().tolist()].tolist()).plot()\n",
    "plt.xticks(rotation=-45)"
   ]
  },
  {
   "cell_type": "code",
   "execution_count": 81,
   "metadata": {},
   "outputs": [],
   "source": [
    "true = true.cpu()\n",
    "pred = pred.cpu()\n",
    "accuracy = accuracy_score(true, pred)\n",
    "\n",
    "micro_f1_score = f1_score(true, pred, average=\"micro\")\n",
    "macro_f1_score = f1_score(true, pred, average=\"macro\")\n",
    "weighted_f1_score = f1_score(true, pred, average=\"weighted\")\n",
    "\n",
    "micro_precision = precision_score(true, pred, average=\"micro\")\n",
    "macro_precision = precision_score(true, pred, average=\"macro\")\n",
    "weighted_precision = precision_score(true, pred, average=\"weighted\")\n",
    "\n",
    "micro_recall = recall_score(true, pred, average=\"micro\")\n",
    "macro_recall = recall_score(true, pred, average=\"macro\")\n",
    "weighted_recall = recall_score(true, pred, average=\"weighted\")\n",
    "\n",
    "# if output_size == 1:\n",
    "#     auroc = roc_auc_score(true.cpu(), pred_probs.cpu())\n",
    "# else: \n",
    "#     auroc = roc_auc_score(true, pred_probs, multi_class='ovo')"
   ]
  },
  {
   "cell_type": "code",
   "execution_count": 82,
   "metadata": {},
   "outputs": [
    {
     "name": "stdout",
     "output_type": "stream",
     "text": [
      "accuracy : 0.7692\n",
      "\n",
      "micro f1_score : 0.7692\n",
      "macro f1_score : 0.5524\n",
      "weighted f1_score : 0.7033\n",
      "\n",
      "micro precision : 0.7692\n",
      "macro precision : 0.5167\n",
      "weighted precision : 0.6538\n",
      "\n",
      "micro recall : 0.7692\n",
      "macro recall : 0.6000\n",
      "weighted recall : 0.7692\n",
      "\n"
     ]
    }
   ],
   "source": [
    "print(f\"accuracy : {accuracy:.4f}\\n\")\n",
    "\n",
    "print(f\"micro f1_score : {micro_f1_score:.4f}\")\n",
    "print(f\"macro f1_score : {macro_f1_score:.4f}\")\n",
    "print(f\"weighted f1_score : {weighted_f1_score:.4f}\\n\")\n",
    "\n",
    "print(f\"micro precision : {micro_precision:.4f}\")\n",
    "print(f\"macro precision : {macro_precision:.4f}\")\n",
    "print(f\"weighted precision : {weighted_precision:.4f}\\n\")\n",
    "\n",
    "print(f\"micro recall : {micro_recall:.4f}\")\n",
    "print(f\"macro recall : {macro_recall:.4f}\")\n",
    "print(f\"weighted recall : {weighted_recall:.4f}\\n\")\n",
    "\n",
    "# print(f\"auroc : {auroc:.4f}\")"
   ]
  }
 ],
 "metadata": {
  "kernelspec": {
   "display_name": "base",
   "language": "python",
   "name": "python3"
  },
  "language_info": {
   "codemirror_mode": {
    "name": "ipython",
    "version": 3
   },
   "file_extension": ".py",
   "mimetype": "text/x-python",
   "name": "python",
   "nbconvert_exporter": "python",
   "pygments_lexer": "ipython3",
   "version": "3.9.13"
  },
  "orig_nbformat": 4
 },
 "nbformat": 4,
 "nbformat_minor": 2
}
