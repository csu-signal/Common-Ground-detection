{
 "cells": [
  {
   "cell_type": "code",
   "execution_count": 1,
   "metadata": {},
   "outputs": [],
   "source": [
    "import os\n",
    "import random\n",
    "import torch.nn as nn \n",
    "from sklearn.metrics import accuracy_score\n",
    "from sklearn.metrics import f1_score\n",
    "from sklearn.metrics import precision_score\n",
    "from sklearn.metrics import recall_score\n",
    "from sklearn.metrics import confusion_matrix\n",
    "from sklearn.metrics import ConfusionMatrixDisplay\n",
    "from sklearn.metrics import roc_auc_score\n",
    "from torch import optim\n",
    "from torch.utils.data import Dataset, DataLoader\n",
    "import numpy as np\n",
    "import pandas as pd\n",
    "import warnings\n",
    "import matplotlib.pyplot as plt\n",
    "import torch\n",
    "from imblearn.over_sampling import SMOTE\n",
    "from IPython.display import clear_output\n",
    "from sklearn.decomposition import PCA\n",
    "from pytorch_metric_learning import losses, miners\n",
    "# import re\n",
    "# from torchsampler import ImbalancedDatasetSampler\n",
    "# import shap\n",
    "# from sklearn.preprocessing import MinMaxScaler\n",
    "# import math\n",
    "# import time\n",
    "# import json\n",
    "# from datetime import datetime\n",
    "# from sklearn.cluster import KMeans\n",
    "warnings.filterwarnings(\"ignore\")\n"
   ]
  },
  {
   "cell_type": "code",
   "execution_count": 2,
   "metadata": {},
   "outputs": [],
   "source": [
    "seed = 30\n",
    "torch.manual_seed(seed)\n",
    "torch.cuda.manual_seed(seed)\n",
    "# 40, 27 = 0.76 \n",
    "#  = 0.72\n",
    "#  = 0.8"
   ]
  },
  {
   "cell_type": "code",
   "execution_count": 3,
   "metadata": {},
   "outputs": [
    {
     "name": "stdout",
     "output_type": "stream",
     "text": [
      "cuda:0\n"
     ]
    }
   ],
   "source": [
    "device = torch.device('cuda:0' if torch.cuda.is_available() else 'cpu')\n",
    "# device = \"cpu\"\n",
    "print(device)"
   ]
  },
  {
   "cell_type": "code",
   "execution_count": 4,
   "metadata": {},
   "outputs": [],
   "source": [
    "LLM = \"bert-base-uncased\"\n",
    "# LLM = \"bert-large-uncased\"\n",
    "# LLM = \"albert\"\n",
    "# LLM = \"roberta\"\n",
    "# LLM = \"xlm\""
   ]
  },
  {
   "cell_type": "code",
   "execution_count": 5,
   "metadata": {},
   "outputs": [],
   "source": [
    "lv1_lv3 = dict({0:0, 1:0, 2:0, 3:0, 4:0, 5:1, 6:1, 7:1, 8:1, 9:1, 10:1, 11:1, 12:1, 13:2, 14:2, 15:2, 16:2, 17:2, 18:2})"
   ]
  },
  {
   "cell_type": "code",
   "execution_count": 6,
   "metadata": {},
   "outputs": [],
   "source": [
    "class DATA():\n",
    "\n",
    "    def __init__(self):\n",
    "        self.dataset_llm = []\n",
    "        self.dataset_opensmile = []\n",
    "        self.dataset_cps_f = []\n",
    "        self.dataset_cps_i = []\n",
    "        self.dataset_action = []\n",
    "        self.dataset_gamr = []\n",
    "\n",
    "        self.targets = []\n",
    "\n",
    "    def openLLM(self, filename):\n",
    "        data = pd.read_csv(filename)\n",
    "        for i in range(len(data)):\n",
    "            self.dataset_llm.append(np.asarray(data.iloc[i]).tolist())\n",
    "        global llm_size\n",
    "        llm_size = len(self.dataset_llm[-1])\n",
    "    \n",
    "    \n",
    "    def openSmile(self,filename):\n",
    "        data = pd.read_csv(filename)\n",
    "        for i in range (data.shape[0]):\n",
    "            # print(f'C:\\\\Users\\\\Bbykitty\\\\OneDrive - Colostate\\\\Research\\\\Initial Observations for Fib Weights\\\\Data\\\\Segment Analysis\\\\{filename[filename.index(\"Group_\"):filename.index(\"Group_\")+8]}\\\\segments_oracle\\\\{filename[filename.index(\"Group_\"):filename.index(\"Group_\")+8]}_'+str(i)+'.wav')\n",
    "            row=data[data['file']==f'C:\\\\Users\\\\bradf\\\\OneDrive - Colostate\\\\Research\\\\Initial Observations for Fib Weights\\\\Data\\\\Segment Analysis\\\\{filename[filename.index(\"Group_\"):filename.index(\"Group_\")+8]}\\\\segments_oracle\\\\{filename[filename.index(\"Group_\"):filename.index(\"Group_\")+8]}_'+str(i)+'.wav']\n",
    "            tensor=np.nan_to_num(np.asarray(row.values[0][3:91],dtype=np.float32)).tolist()\n",
    "            self.dataset_opensmile.append(tensor)\n",
    "\n",
    "\n",
    "    def openCPS(self, filename):\n",
    "        data = pd.read_csv(filename).fillna(0)\n",
    "        for row in range(data.shape[0]):\n",
    "            cps = data.iloc[row, 8:].fillna(0)\n",
    "            self.dataset_cps_i.append(list(cps.values))\n",
    "            cps_f = [0, 0, 0]\n",
    "            for i, c in enumerate(list(cps.values)):\n",
    "                if c == 1:\n",
    "                    cps_f[lv1_lv3[i]] = 1\n",
    "            self.dataset_cps_f.append(cps_f)\n",
    "\n",
    "    def openAction(self, filename):\n",
    "        data = pd.read_csv(filename, header=None).fillna(0)\n",
    "        for row in range(data.shape[0]):\n",
    "            self.dataset_action.append(data.iloc[row].to_list())\n",
    "\n",
    "\n",
    "\n",
    "    def openGAMR(self, filename):\n",
    "        data = pd.read_csv(filename, header=None).fillna(0)\n",
    "        for row in range(data.shape[0]):\n",
    "            self.dataset_gamr.append(data.iloc[row].to_list())\n",
    "        \n",
    "\n",
    "    def openTarget(self,filename):\n",
    "        data = pd.read_csv(filename)\n",
    "        for row in range(data.shape[0]):\n",
    "            target = data.iloc[row, 3:].values.astype(int)\n",
    "            self.targets.append(target.tolist())\n",
    "\n",
    "\n",
    "    def get_datasets(self, rand=False):\n",
    "        final_dataset=[]        \n",
    "        for llm, opensmile, cps_f, cps_i, action, gamr, label in zip(self.dataset_llm, self.dataset_opensmile,self.dataset_cps_f, self.dataset_cps_i, self.dataset_action, self.dataset_gamr, self.targets):\n",
    "            final_dataset.append([llm, opensmile, cps_f, cps_i, action, gamr, label])\n",
    "            \n",
    "        if rand:\n",
    "            random.shuffle(final_dataset)\n",
    "        return final_dataset"
   ]
  },
  {
   "cell_type": "code",
   "execution_count": 39,
   "metadata": {},
   "outputs": [],
   "source": [
    "def read_data(dataset, root, file, llm=\"bert-base-uncased\"):\n",
    "\n",
    "    if llm in file:\n",
    "        dataset.openLLM(root+\"/\"+file)\n",
    "    if 'oracle_opensmile' in file:\n",
    "        dataset.openSmile(root+\"/\"+file)\n",
    "    elif 'CPS_Oracle' in file:\n",
    "        dataset.openCPS(root+\"/\"+file)\n",
    "    elif \"Actions_Oracle_vectors\" in file:\n",
    "        dataset.openAction(root+\"/\"+file)\n",
    "    elif \"GAMR_Oracle_vectors\" in file:\n",
    "        dataset.openGAMR(root+\"/\"+file)\n",
    "    elif 'CG_3_gold.csv' in file:\n",
    "        dataset.openTarget(root+\"/\"+file)\n",
    "        "
   ]
  },
  {
   "cell_type": "code",
   "execution_count": 40,
   "metadata": {},
   "outputs": [],
   "source": [
    "train_datasets = DATA()"
   ]
  },
  {
   "cell_type": "code",
   "execution_count": 41,
   "metadata": {},
   "outputs": [
    {
     "name": "stdout",
     "output_type": "stream",
     "text": [
      "/s/chopin/b/grad/benkh/Common Ground/Group_05\n",
      "/s/chopin/b/grad/benkh/Common Ground/Group_07\n",
      "/s/chopin/b/grad/benkh/Common Ground/Group_06\n",
      "/s/chopin/b/grad/benkh/Common Ground/Group_02\n",
      "/s/chopin/b/grad/benkh/Common Ground/Group_09\n",
      "/s/chopin/b/grad/benkh/Common Ground/Group_03\n",
      "/s/chopin/b/grad/benkh/Common Ground/Group_10\n",
      "/s/chopin/b/grad/benkh/Common Ground/Group_08\n",
      "/s/chopin/b/grad/benkh/Common Ground/Group_01\n",
      "/s/chopin/b/grad/benkh/Common Ground/Group_04\n"
     ]
    }
   ],
   "source": [
    "for root, dirs,files in (os.walk(os. getcwd())):\n",
    "    if \"Group_\" in root and \"data\" not in root:\n",
    "        if \"asr\" not in root:\n",
    "            print(root)\n",
    "            for file in files:\n",
    "                read_data(train_datasets, root, file, LLM)"
   ]
  },
  {
   "cell_type": "code",
   "execution_count": 42,
   "metadata": {},
   "outputs": [
    {
     "data": {
      "text/plain": [
       "True"
      ]
     },
     "execution_count": 42,
     "metadata": {},
     "output_type": "execute_result"
    }
   ],
   "source": [
    "len(train_datasets.dataset_llm) == len(train_datasets.dataset_opensmile) == len(train_datasets.dataset_cps_f) == len(train_datasets.dataset_cps_i) == len(train_datasets.dataset_action) == len(train_datasets.dataset_gamr) == len(train_datasets.targets)"
   ]
  },
  {
   "cell_type": "code",
   "execution_count": 43,
   "metadata": {},
   "outputs": [
    {
     "data": {
      "text/plain": [
       "271"
      ]
     },
     "execution_count": 43,
     "metadata": {},
     "output_type": "execute_result"
    }
   ],
   "source": [
    "np.sum(np.asarray(train_datasets.targets))"
   ]
  },
  {
   "cell_type": "code",
   "execution_count": 44,
   "metadata": {},
   "outputs": [
    {
     "data": {
      "text/plain": [
       "array([195,  61,  15])"
      ]
     },
     "execution_count": 44,
     "metadata": {},
     "output_type": "execute_result"
    }
   ],
   "source": [
    "np.sum(np.asarray(train_datasets.targets), axis=0)"
   ]
  },
  {
   "cell_type": "code",
   "execution_count": 45,
   "metadata": {},
   "outputs": [],
   "source": [
    "def change_window_size(train_list, window_size):\n",
    "    rec_train_list = []\n",
    "    pad = [[0]*len(train_list[0][0]), [0]*len(train_list[0][1])]\n",
    "\n",
    "    for utt_id in range(len(train_list)):\n",
    "        aux = []\n",
    "        for i in range(window_size):\n",
    "            if utt_id == i:\n",
    "                for _ in range(window_size-utt_id):\n",
    "                    aux.append(pad)\n",
    "        for i in range(window_size):\n",
    "            if len(aux) == i:\n",
    "                aux.append(train_list[utt_id - window_size + i])\n",
    "        aux.append(train_list[utt_id])\n",
    "        rec_train_list.append(aux)\n",
    "    \n",
    "    return rec_train_list"
   ]
  },
  {
   "cell_type": "code",
   "execution_count": 46,
   "metadata": {},
   "outputs": [],
   "source": [
    "window_size = 3"
   ]
  },
  {
   "cell_type": "code",
   "execution_count": 47,
   "metadata": {},
   "outputs": [],
   "source": [
    "def get_data(k, j, window_size):\n",
    "    full_data = []\n",
    "    for group in range(1, 11):\n",
    "        if group != k and group != j:\n",
    "            train_datasets = DATA()\n",
    "            for root, dirs,files in (os.walk(os. getcwd())):\n",
    "                if f\"Group_{group:02d}\" in root and \"data\" not in root:\n",
    "                    if \"asr\" not in root:\n",
    "                        print(root)\n",
    "                        for file in files:\n",
    "                            read_data(train_datasets, root, file, LLM)\n",
    "            train_list = train_datasets.get_datasets()\n",
    "            train_list = [[a+b+c+d+e+f, g] for a,b,c,d,e,f,g in train_list]\n",
    "            rec_train_list = change_window_size(train_list, window_size)\n",
    "            full_data += rec_train_list\n",
    "        # random.shuffle(full_data)\n",
    "    return full_data"
   ]
  },
  {
   "cell_type": "code",
   "execution_count": 48,
   "metadata": {},
   "outputs": [],
   "source": [
    "def get_group_k(k, window_size):\n",
    "    full_data = []\n",
    "    group = k\n",
    "    train_datasets = DATA()\n",
    "    for root, dirs,files in (os.walk(os. getcwd())):\n",
    "        if f\"Group_{group:02d}\" in root and \"data\" not in root:\n",
    "            if \"asr\" not in root:\n",
    "                print(root)\n",
    "                for file in files:\n",
    "                    read_data(train_datasets, root, file, LLM)\n",
    "    train_list = train_datasets.get_datasets()\n",
    "    train_list = [[a+b+c+d+e+f, g] for a,b,c,d,e,f,g in train_list]\n",
    "    rec_train_list = change_window_size(train_list, window_size)\n",
    "    full_data += rec_train_list\n",
    "    # random.shuffle(full_data)\n",
    "    return full_data"
   ]
  },
  {
   "cell_type": "code",
   "execution_count": 49,
   "metadata": {},
   "outputs": [],
   "source": [
    "# Uncomment to remove utterances with no CGA\n",
    "def remove_non_cga(full_data):\n",
    "    utt_id = 0\n",
    "    while utt_id  < (len(full_data)):\n",
    "        if full_data[utt_id][-1][1] == [0, 0, 0]:\n",
    "            del full_data[utt_id]\n",
    "        else:\n",
    "            utt_id += 1\n",
    "    return full_data"
   ]
  },
  {
   "cell_type": "code",
   "execution_count": 50,
   "metadata": {},
   "outputs": [
    {
     "name": "stdout",
     "output_type": "stream",
     "text": [
      "/s/chopin/b/grad/benkh/Common Ground/Group_01\n",
      "/s/chopin/b/grad/benkh/Common Ground/Group_03\n",
      "/s/chopin/b/grad/benkh/Common Ground/Group_04\n",
      "/s/chopin/b/grad/benkh/Common Ground/Group_06\n",
      "/s/chopin/b/grad/benkh/Common Ground/Group_07\n",
      "/s/chopin/b/grad/benkh/Common Ground/Group_08\n",
      "/s/chopin/b/grad/benkh/Common Ground/Group_09\n",
      "/s/chopin/b/grad/benkh/Common Ground/Group_10\n",
      "/s/chopin/b/grad/benkh/Common Ground/Group_02\n",
      "/s/chopin/b/grad/benkh/Common Ground/Group_05\n"
     ]
    }
   ],
   "source": [
    "test_group = 2 # Must hold out group 2 (it contains 1 of each class which we need for auroc)\n",
    "val_group = 5\n",
    "train_data = get_data(test_group, val_group, window_size)\n",
    "test_data = get_group_k(test_group, window_size)\n",
    "val_data = get_group_k(val_group, window_size)"
   ]
  },
  {
   "cell_type": "code",
   "execution_count": 51,
   "metadata": {},
   "outputs": [],
   "source": [
    "train_data = remove_non_cga(train_data)\n",
    "test_data = remove_non_cga(test_data)\n",
    "val_data = remove_non_cga(val_data)"
   ]
  },
  {
   "cell_type": "code",
   "execution_count": 52,
   "metadata": {},
   "outputs": [],
   "source": [
    "class rec_dataset(Dataset):\n",
    "    def __init__(self,xy=None, window_size=3):\n",
    "        self.utt_bert_l = []\n",
    "        self.utt_open_l = []\n",
    "        self.utt_cps_f_l = []\n",
    "        self.utt_cps_i_l = []\n",
    "        self.utt_action_l = []\n",
    "        self.utt_gamr_l = []\n",
    "        self.utt_y_l = []\n",
    "        self.utt_y = []\n",
    "\n",
    "        for utt in xy:\n",
    "            bert_tmp = []\n",
    "            open_tmp = []\n",
    "            cps_i_tmp = []\n",
    "            cps_f_tmp = []\n",
    "            action_tmp = []\n",
    "            gamr_tmp = []\n",
    "            y_tmp = []\n",
    "            for utt_id in range(window_size+1):\n",
    "                bert_tmp.append(utt[utt_id][0][:llm_size])\n",
    "                open_tmp.append(utt[utt_id][0][llm_size:llm_size+88])\n",
    "                cps_i_tmp.append(utt[utt_id][0][llm_size+88:llm_size+88+19])\n",
    "                cps_f_tmp.append(utt[utt_id][0][llm_size+88+19:llm_size+88+19+3])\n",
    "                action_tmp.append(utt[utt_id][0][llm_size+88+19+3:llm_size+88+19+3+78])\n",
    "                gamr_tmp.append(utt[utt_id][0][llm_size+88+19+3+78:])\n",
    "                y_tmp.append(utt[utt_id][1])\n",
    "            self.utt_bert_l.append(bert_tmp)\n",
    "            self.utt_open_l.append(open_tmp)\n",
    "            self.utt_cps_f_l.append(cps_f_tmp)\n",
    "            self.utt_cps_i_l.append(cps_i_tmp)\n",
    "            self.utt_action_l.append(action_tmp)\n",
    "            self.utt_gamr_l.append(gamr_tmp)\n",
    "            self.utt_y_l.append(y_tmp)\n",
    "        self.utt_bert_l = torch.from_numpy(np.asarray(self.utt_bert_l,dtype=np.float32))\n",
    "        self.utt_open_l = torch.from_numpy(np.asarray(self.utt_open_l,dtype=np.float32))\n",
    "        self.utt_cps_f_l = torch.from_numpy(np.asarray(self.utt_cps_f_l,dtype=np.float32))\n",
    "        self.utt_cps_i_l = torch.from_numpy(np.asarray(self.utt_cps_i_l,dtype=np.float32))\n",
    "        self.utt_action_l = torch.from_numpy(np.asarray(self.utt_action_l,dtype=np.float32))\n",
    "        self.utt_gamr_l = torch.from_numpy(np.asarray(self.utt_gamr_l,dtype=np.float32))\n",
    "        self.utt_y_l = torch.from_numpy(np.asarray(self.utt_y_l,dtype=np.float32))\n",
    "\n",
    "        for utt_id in range(len(self.utt_y_l)):\n",
    "            self.utt_y.append(self.utt_y_l[utt_id][-1])\n",
    "\n",
    "        self.len=len(self.utt_bert_l)\n",
    "        \n",
    "\n",
    "    def __getitem__(self, index):\n",
    "        return self.utt_bert_l[index], self.utt_open_l[index], self.utt_cps_f_l[index], self.utt_cps_i_l[index], self.utt_action_l[index], self.utt_gamr_l[index], self.utt_y[index]\n",
    "    \n",
    "    def get_labels(self):\n",
    "        return np.stack(self.utt_y, axis=0).argmax(axis=1)\n",
    "\n",
    "    def __len__(self):\n",
    "        return self.len"
   ]
  },
  {
   "cell_type": "code",
   "execution_count": 64,
   "metadata": {},
   "outputs": [],
   "source": [
    "train_dataset = rec_dataset(train_data, window_size)\n",
    "test_dataset = rec_dataset(test_data, window_size)\n",
    "val_dataset = rec_dataset(val_data, window_size)"
   ]
  },
  {
   "cell_type": "code",
   "execution_count": 65,
   "metadata": {},
   "outputs": [],
   "source": [
    "def smote_preprocess(train_dataset, window_size):\n",
    "    x_bert = []\n",
    "    x_open = []\n",
    "    x_cps_i = []\n",
    "    x_cps_f = []\n",
    "    x_action = []\n",
    "    x_gamr = []\n",
    "    y = []\n",
    "    for i in range(len(train_dataset)):\n",
    "        x_bert_tmp = []\n",
    "        x_open_tmp = []\n",
    "        x_cps_i_tmp = []\n",
    "        x_cps_f_tmp = []\n",
    "        x_action_tmp = []\n",
    "        x_gamr_tmp = []\n",
    "        for j in range(len(train_dataset.utt_open_l[i])):\n",
    "            x_bert_tmp += train_dataset.utt_bert_l[i][j].tolist()\n",
    "            x_open_tmp += train_dataset.utt_open_l[i][j].tolist()\n",
    "            x_cps_i_tmp += train_dataset.utt_cps_i_l[i][j].tolist()\n",
    "            x_cps_f_tmp += train_dataset.utt_cps_f_l[i][j].tolist()\n",
    "            x_action_tmp += train_dataset.utt_action_l[i][j].tolist()\n",
    "            x_gamr_tmp += train_dataset.utt_gamr_l[i][j].tolist()\n",
    "\n",
    "        y.append(train_dataset.utt_y[i].tolist())\n",
    "        x_bert.append(x_bert_tmp)\n",
    "        x_open.append(x_open_tmp)\n",
    "        x_cps_i.append(x_cps_i_tmp)\n",
    "        x_cps_f.append(x_cps_f_tmp)\n",
    "        x_action.append(x_action_tmp)\n",
    "        x_gamr.append(x_gamr_tmp)\n",
    "\n",
    "        # if y[-1] == [0, 0, 1]:\n",
    "        #     for _ in range(2):\n",
    "        #         y.append(train_dataset.utt_y[i].tolist())\n",
    "        #         x_bert.append(x_bert_tmp)\n",
    "        #         x_open.append(x_open_tmp)\n",
    "        #         x_cps_i.append(x_cps_i_tmp)\n",
    "        #         x_cps_f.append(x_cps_f_tmp)\n",
    "        #         x_action.append(x_action_tmp)\n",
    "        #         x_gamr.append(x_gamr_tmp)\n",
    "        \n",
    "\n",
    "    oversample = SMOTE()\n",
    "\n",
    "    x_bert, y_ = oversample.fit_resample(np.array(x_bert), np.array(y))\n",
    "    x_open, y_ = oversample.fit_resample(np.array(x_open), np.array(y))\n",
    "    x_cps_i, y_ = oversample.fit_resample(np.array(x_cps_i), np.array(y))\n",
    "    x_cps_f, y_ = oversample.fit_resample(np.array(x_cps_f), np.array(y))\n",
    "    x_action, y_ = oversample.fit_resample(np.array(x_action), np.array(y))\n",
    "    x_gamr, y_ = oversample.fit_resample(np.array(x_gamr), np.array(y))\n",
    "    clear_output(wait=False)\n",
    "\n",
    "\n",
    "\n",
    "    x_bert_tensor = []\n",
    "    x_open_tensor = []\n",
    "    x_cps_i_tensor = []\n",
    "    x_cps_f_tensor = []\n",
    "    x_action_tensor = []\n",
    "    x_gamr_tensor = []\n",
    "    y = []\n",
    "    for i in range(len(x_bert)):\n",
    "        x_bert_tmp = []\n",
    "        x_open_tmp = []\n",
    "        x_cps_i_tmp = []\n",
    "        x_cps_f_tmp = []\n",
    "        x_action_tmp = []\n",
    "        x_gamr_tmp = []\n",
    "        for utt_id in range(window_size+1):\n",
    "            bert_size = int(len(x_bert[i])/(window_size + 1))\n",
    "            open_size = int(len(x_open[i])/(window_size + 1))\n",
    "            cps_i_size = int(len(x_cps_i[i])/(window_size + 1))\n",
    "            cps_f_size = int(len(x_cps_f[i])/(window_size + 1))\n",
    "            action_size = int(len(x_action[i])/(window_size + 1))\n",
    "            gamr_size = int(len(x_gamr[i])/(window_size + 1))\n",
    "\n",
    "            x_bert_tmp.append(x_bert[i][utt_id*bert_size:(utt_id+1)*bert_size])\n",
    "            x_open_tmp.append(x_open[i][utt_id*open_size:(utt_id+1)*open_size])\n",
    "            x_cps_i_tmp.append(x_cps_i[i][utt_id*cps_i_size:(utt_id+1)*cps_i_size])\n",
    "            x_cps_f_tmp.append(x_cps_f[i][utt_id*cps_f_size:(utt_id+1)*cps_f_size])\n",
    "            x_action_tmp.append(x_action[i][utt_id*action_size:(utt_id+1)*action_size])\n",
    "            x_gamr_tmp.append(x_gamr[i][utt_id*gamr_size:(utt_id+1)*gamr_size])\n",
    "\n",
    "        x_bert_tensor.append(x_bert_tmp)\n",
    "        x_open_tensor.append(x_open_tmp)\n",
    "        x_cps_i_tensor.append(x_cps_i_tmp)\n",
    "        x_cps_f_tensor.append(x_cps_f_tmp)\n",
    "        x_action_tensor.append(x_action_tmp)\n",
    "        x_gamr_tensor.append(x_gamr_tmp)\n",
    "        y.append(torch.Tensor(y_[i]))\n",
    "\n",
    "    x_bert_tensor = torch.from_numpy(np.array(x_bert_tensor, dtype=np.float32))\n",
    "    x_open_tensor = torch.from_numpy(np.array(x_open_tensor, dtype=np.float32))\n",
    "    x_cps_i_tensor = torch.from_numpy(np.array(x_cps_i_tensor, dtype=np.float32))\n",
    "    x_cps_f_tensor = torch.from_numpy(np.array(x_cps_f_tensor, dtype=np.float32))\n",
    "    x_action_tensor = torch.from_numpy(np.array(x_action_tensor, dtype=np.float32))\n",
    "    x_gamr_tensor = torch.from_numpy(np.array(x_gamr_tensor, dtype=np.float32))\n",
    "\n",
    "\n",
    "    train_dataset.utt_bert_l = x_bert_tensor\n",
    "    train_dataset.utt_open_l = x_open_tensor\n",
    "    train_dataset.utt_cps_i_l = x_cps_i_tensor\n",
    "    train_dataset.utt_cps_f_l = x_cps_f_tensor\n",
    "    train_dataset.utt_action_l = x_action_tensor\n",
    "    train_dataset.utt_gamr_l = x_gamr_tensor\n",
    "    train_dataset.utt_y = y\n",
    "    train_dataset.len = len(train_dataset.utt_y)"
   ]
  },
  {
   "cell_type": "code",
   "execution_count": 66,
   "metadata": {},
   "outputs": [],
   "source": [
    "# y_train = rec_dataset(rec_train_list, window_size).utt_y\n",
    "y_train = train_dataset.utt_y"
   ]
  },
  {
   "cell_type": "code",
   "execution_count": 67,
   "metadata": {},
   "outputs": [],
   "source": [
    "y_train_tensor = torch.stack(y_train)"
   ]
  },
  {
   "cell_type": "code",
   "execution_count": 68,
   "metadata": {},
   "outputs": [
    {
     "name": "stdout",
     "output_type": "stream",
     "text": [
      "(tensor([0, 1, 2]), tensor([149,  49,  14]))\n"
     ]
    }
   ],
   "source": [
    "print(y_train_tensor.argmax(dim=1).unique(return_counts=True))"
   ]
  },
  {
   "cell_type": "code",
   "execution_count": 69,
   "metadata": {},
   "outputs": [],
   "source": [
    "smote_preprocess(train_dataset, window_size)"
   ]
  },
  {
   "cell_type": "code",
   "execution_count": 70,
   "metadata": {},
   "outputs": [],
   "source": [
    "# rec_train_loader = DataLoader(dataset=train_dataset, sampler=ImbalancedDatasetSampler(train_dataset),batch_size=16)\n",
    "# rec_test_loader = DataLoader(dataset=test_dataset, sampler=ImbalancedDatasetSampler(test_dataset),batch_size=16)\n",
    "rec_train_loader = DataLoader(dataset=train_dataset, batch_size=16, shuffle=True)\n",
    "rec_test_loader = DataLoader(dataset=test_dataset, batch_size=16, shuffle=False)\n",
    "rec_val_loader = DataLoader(dataset=val_dataset, batch_size=16, shuffle=False)"
   ]
  },
  {
   "cell_type": "code",
   "execution_count": 71,
   "metadata": {},
   "outputs": [],
   "source": [
    "# y_train = rec_dataset(rec_train_list, window_size).utt_y\n",
    "y_train = train_dataset.utt_y"
   ]
  },
  {
   "cell_type": "code",
   "execution_count": 72,
   "metadata": {},
   "outputs": [],
   "source": [
    "y_train_tensor = torch.stack(y_train)"
   ]
  },
  {
   "cell_type": "code",
   "execution_count": 73,
   "metadata": {},
   "outputs": [
    {
     "name": "stdout",
     "output_type": "stream",
     "text": [
      "(tensor([0, 1, 2]), tensor([149, 149, 149]))\n"
     ]
    }
   ],
   "source": [
    "print(y_train_tensor.argmax(dim=1).unique(return_counts=True))"
   ]
  },
  {
   "cell_type": "code",
   "execution_count": 28,
   "metadata": {},
   "outputs": [],
   "source": [
    "class rec_common_ground(nn.Module):\n",
    "    def __init__(self, hyperparam, modalities, output_size=1):\n",
    "        super(rec_common_ground, self).__init__()\n",
    "\n",
    "        lin_layers = hyperparam[\"lin_layers\"]\n",
    "        hidden_size = hyperparam[\"hidden_size\"]\n",
    "        lstm_hidden_size = hyperparam[\"lstm_hidden_size\"]\n",
    "        lstm_input_size = hyperparam[\"lstm_input_size\"]\n",
    "        ff1_size = hyperparam[\"ff1_size\"]\n",
    "        ff2_size = hyperparam[\"ff2_size\"]\n",
    "\n",
    "        bert_b = modalities[\"bert_b\"]\n",
    "        opensmile_b = modalities[\"opensmile_b\"]\n",
    "        cps_b = modalities[\"cps_b\"]\n",
    "        cps_f_b = modalities[\"cps_f_b\"]\n",
    "        action_b = modalities[\"action_b\"]\n",
    "        gamr_b = modalities[\"gamr_b\"]\n",
    "\n",
    "        self.lin_bert1 = nn.Linear(llm_size, hidden_size)\n",
    "        self.lin_bert2 = nn.Linear(hidden_size, lstm_input_size)\n",
    "        self.lstm_bert = nn.LSTM(input_size=lstm_input_size, batch_first=True, hidden_size=lstm_hidden_size)\n",
    "        if not lin_layers:\n",
    "            self.lstm_bert = nn.LSTM(input_size=llm_size, batch_first=True, hidden_size=lstm_hidden_size)\n",
    "\n",
    "\n",
    "        self.lin_open1 = nn.Linear(88, hidden_size)\n",
    "        self.lin_open2 = nn.Linear(hidden_size, lstm_input_size)\n",
    "        self.lstm_opensmile = nn.LSTM(input_size=lstm_input_size, batch_first=True, hidden_size=lstm_hidden_size)\n",
    "        if not lin_layers:\n",
    "            self.lstm_opensmile = nn.LSTM(input_size=88, batch_first=True, hidden_size=lstm_hidden_size)\n",
    "\n",
    "        cps_size = 19\n",
    "        if cps_f_b:\n",
    "            cps_size = 3\n",
    "        self.lin_cps1 = nn.Linear(cps_size, hidden_size)\n",
    "        self.lin_cps2 = nn.Linear(hidden_size, lstm_input_size)\n",
    "        self.lstm_cps = nn.LSTM(input_size=lstm_input_size, batch_first=True, hidden_size=lstm_hidden_size)\n",
    "        if not lin_layers:\n",
    "            self.lstm_cps = nn.LSTM(input_size=cps_size, batch_first=True, hidden_size=lstm_hidden_size)\n",
    "\n",
    "\n",
    "        self.lin_action1 = nn.Linear(78, hidden_size)\n",
    "        self.lin_action2 = nn.Linear(hidden_size, lstm_input_size)\n",
    "        self.lstm_action = nn.LSTM(input_size=lstm_input_size, batch_first=True, hidden_size=lstm_hidden_size)\n",
    "        if not lin_layers:\n",
    "            self.lstm_action = nn.LSTM(input_size=78, batch_first=True, hidden_size=lstm_hidden_size)\n",
    "\n",
    "        self.lin_gamr1 = nn.Linear(243, hidden_size)\n",
    "        self.lin_gamr2 = nn.Linear(hidden_size, lstm_input_size)\n",
    "        self.lstm_gamr = nn.LSTM(input_size=lstm_input_size, batch_first=True, hidden_size=lstm_hidden_size)\n",
    "        if not lin_layers:\n",
    "            self.lstm_gamr = nn.LSTM(input_size=243, batch_first=True, hidden_size=lstm_hidden_size)\n",
    "\n",
    "\n",
    "        self.relu = nn.ReLU()\n",
    "        n_modals = int(bert_b) + int(opensmile_b) + int(cps_b) + int(action_b) + int(gamr_b)\n",
    "        self.ff1 = nn.Linear(lstm_hidden_size*n_modals, ff1_size)\n",
    "        self.ff2 = nn.Linear(ff1_size, ff2_size)\n",
    "        self.act1 = nn.Tanh()\n",
    "        self.act2 = nn.SiLU()\n",
    "        self.classifier = nn.Linear(ff2_size, output_size)\n",
    "\n",
    "\n",
    "    def forward(self, utt_bert_l, utt_open_l, utt_cps_l, utt_action_l, utt_gamr_l, hyperparam, modalities):\n",
    "\n",
    "\n",
    "        lin_layers = hyperparam[\"lin_layers\"]\n",
    "        bert_b = modalities[\"bert_b\"]\n",
    "        opensmile_b = modalities[\"opensmile_b\"]\n",
    "        cps_b = modalities[\"cps_b\"]\n",
    "        cps_f_b = modalities[\"cps_f_b\"]\n",
    "        action_b = modalities[\"action_b\"]\n",
    "        gamr_b = modalities[\"gamr_b\"]\n",
    "\n",
    "\n",
    "        if bert_b:\n",
    "            if lin_layers:\n",
    "                utt_bert_l = [self.lin_bert1(utt_x_bert) for utt_x_bert in utt_bert_l]\n",
    "                utt_bert_l = [self.lin_bert2(utt_x_bert) for utt_x_bert in utt_bert_l]\n",
    "                utt_bert_l = [self.relu(utt_x_bert) for utt_x_bert in utt_bert_l]\n",
    "            bert = torch.stack(tuple(utt_bert_l), dim=0)\n",
    "            bert = self.lstm_bert(bert)[1][0][0]\n",
    "\n",
    "        if opensmile_b:\n",
    "            if lin_layers:\n",
    "                utt_open_l = [self.lin_open1(utt_x_open) for utt_x_open in utt_open_l]\n",
    "                utt_open_l = [self.lin_open2(utt_x_open) for utt_x_open in utt_open_l]\n",
    "                utt_open_l = [self.relu(utt_x_open) for utt_x_open in utt_open_l]\n",
    "            opensmile = torch.stack(tuple(utt_open_l), dim=0)\n",
    "            opensmile = self.lstm_opensmile(opensmile)[1][0][0]\n",
    "\n",
    "        if cps_b:\n",
    "            if lin_layers:\n",
    "                utt_cps_l = [self.lin_cps1(utt_x_cps) for utt_x_cps in utt_cps_l]\n",
    "                utt_cps_l = [self.lin_cps2(utt_x_cps) for utt_x_cps in utt_cps_l]\n",
    "                utt_cps_l = [self.relu(utt_x_cps) for utt_x_cps in utt_cps_l]\n",
    "                # utt_cps_l shape = batch_size, window_size+1, 256\n",
    "            cps = torch.stack(tuple(utt_cps_l), dim=0)\n",
    "            cps = self.lstm_cps(cps)[1][0][0]\n",
    "\n",
    "        if action_b:\n",
    "            if lin_layers:\n",
    "                utt_action_l = [self.lin_action1(utt_x_action) for utt_x_action in utt_action_l]\n",
    "                utt_action_l = [self.lin_action2(utt_x_action) for utt_x_action in utt_action_l]\n",
    "                utt_action_l = [self.relu(utt_x_action) for utt_x_action in utt_action_l]\n",
    "            action = torch.stack(tuple(utt_action_l), dim=0)\n",
    "            action = self.lstm_action(action)[1][0][0]\n",
    "\n",
    "        if gamr_b:\n",
    "            if lin_layers:\n",
    "                utt_gamr_l = [self.lin_gamr1(utt_x_gamr) for utt_x_gamr in utt_gamr_l]\n",
    "                utt_gamr_l = [self.lin_gamr2(utt_x_gamr) for utt_x_gamr in utt_gamr_l]\n",
    "                utt_gamr_l = [self.relu(utt_x_gamr) for utt_x_gamr in utt_gamr_l]\n",
    "            gamr = torch.stack(tuple(utt_gamr_l), dim=0)\n",
    "            gamr = self.lstm_gamr(gamr)[1][0][0]\n",
    "\n",
    "        modals = []\n",
    "        if bert_b: modals.append(bert)\n",
    "        if opensmile_b: modals.append(opensmile)\n",
    "        if cps_b: modals.append(cps)\n",
    "        if action_b: modals.append(action)\n",
    "        if gamr_b: modals.append(gamr)\n",
    "\n",
    "\n",
    "        x = torch.hstack(tuple(modals))\n",
    "        x = self.ff1(x)\n",
    "        x = self.act1(x)\n",
    "        x = self.ff2(x)\n",
    "        x = self.act2(x)\n",
    "        predict = self.classifier(x)\n",
    "\n",
    "        return predict\n",
    "\n",
    "\n",
    "    def get_embeddings(self, utt_bert_l, utt_open_l, utt_cps_l, utt_action_l, utt_gamr_l, hyperparam, modalities):\n",
    "\n",
    "\n",
    "        lin_layers = hyperparam[\"lin_layers\"]\n",
    "        bert_b = modalities[\"bert_b\"]\n",
    "        opensmile_b = modalities[\"opensmile_b\"]\n",
    "        cps_b = modalities[\"cps_b\"]\n",
    "        cps_f_b = modalities[\"cps_f_b\"]\n",
    "        action_b = modalities[\"action_b\"]\n",
    "        gamr_b = modalities[\"gamr_b\"]\n",
    "\n",
    "\n",
    "        if bert_b:\n",
    "            if lin_layers:\n",
    "                utt_bert_l = [self.lin_bert1(utt_x_bert) for utt_x_bert in utt_bert_l]\n",
    "                utt_bert_l = [self.lin_bert2(utt_x_bert) for utt_x_bert in utt_bert_l]\n",
    "                utt_bert_l = [self.relu(utt_x_bert) for utt_x_bert in utt_bert_l]\n",
    "            bert = torch.stack(tuple(utt_bert_l), dim=0)\n",
    "            bert = self.lstm_bert(bert)[1][0][0]\n",
    "\n",
    "        if opensmile_b:\n",
    "            if lin_layers:\n",
    "                utt_open_l = [self.lin_open1(utt_x_open) for utt_x_open in utt_open_l]\n",
    "                utt_open_l = [self.lin_open2(utt_x_open) for utt_x_open in utt_open_l]\n",
    "                utt_open_l = [self.relu(utt_x_open) for utt_x_open in utt_open_l]\n",
    "            opensmile = torch.stack(tuple(utt_open_l), dim=0)\n",
    "            opensmile = self.lstm_opensmile(opensmile)[1][0][0]\n",
    "\n",
    "        if cps_b:\n",
    "            if lin_layers:\n",
    "                utt_cps_l = [self.lin_cps1(utt_x_cps) for utt_x_cps in utt_cps_l]\n",
    "                utt_cps_l = [self.lin_cps2(utt_x_cps) for utt_x_cps in utt_cps_l]\n",
    "                utt_cps_l = [self.relu(utt_x_cps) for utt_x_cps in utt_cps_l]\n",
    "                # utt_cps_l shape = batch_size, window_size+1, 256\n",
    "            cps = torch.stack(tuple(utt_cps_l), dim=0)\n",
    "            cps = self.lstm_cps(cps)[1][0][0]\n",
    "\n",
    "        if action_b:\n",
    "            if lin_layers:\n",
    "                utt_action_l = [self.lin_action1(utt_x_action) for utt_x_action in utt_action_l]\n",
    "                utt_action_l = [self.lin_action2(utt_x_action) for utt_x_action in utt_action_l]\n",
    "                utt_action_l = [self.relu(utt_x_action) for utt_x_action in utt_action_l]\n",
    "            action = torch.stack(tuple(utt_action_l), dim=0)\n",
    "            action = self.lstm_action(action)[1][0][0]\n",
    "\n",
    "        if gamr_b:\n",
    "            if lin_layers:\n",
    "                utt_gamr_l = [self.lin_gamr1(utt_x_gamr) for utt_x_gamr in utt_gamr_l]\n",
    "                utt_gamr_l = [self.lin_gamr2(utt_x_gamr) for utt_x_gamr in utt_gamr_l]\n",
    "                utt_gamr_l = [self.relu(utt_x_gamr) for utt_x_gamr in utt_gamr_l]\n",
    "            gamr = torch.stack(tuple(utt_gamr_l), dim=0)\n",
    "            gamr = self.lstm_gamr(gamr)[1][0][0]\n",
    "\n",
    "        modals = []\n",
    "        if bert_b: modals.append(bert)\n",
    "        if opensmile_b: modals.append(opensmile)\n",
    "        if cps_b: modals.append(cps)\n",
    "        if action_b: modals.append(action)\n",
    "        if gamr_b: modals.append(gamr)\n",
    "\n",
    "\n",
    "        x = torch.hstack(tuple(modals))\n",
    "        x = self.ff1(x)\n",
    "        x = self.act1(x)\n",
    "        x = self.ff2(x)\n",
    "        x = self.act2(x)\n",
    "\n",
    "        return x\n"
   ]
  },
  {
   "cell_type": "code",
   "execution_count": 29,
   "metadata": {},
   "outputs": [],
   "source": [
    "def rec_train(model, total_epochs, lr, train_loader, class_to_eval, hyperparam, modalities, output_size):\n",
    "    \n",
    "    optimizer = optim.Adam(model.parameters(), lr=lr)\n",
    "    epoch_loss = []\n",
    "    nepochs = 0\n",
    "    cps_f_b = modalities[\"cps_f_b\"]\n",
    "    model.train()\n",
    "\n",
    "    criterion = nn.BCELoss(reduction='mean').to(device)\n",
    "    if output_size != 1:\n",
    "        # criterion = nn.CrossEntropyLoss(weight=class_weights).to(device)\n",
    "        criterion = nn.CrossEntropyLoss().to(device)\n",
    "    while nepochs < total_epochs :\n",
    "        batch_loss = []\n",
    "        for utt_bert_l, utt_open_l, utt_cps_f_l, utt_cps_i_l, utt_action_l, utt_gamr_l, utt_y in train_loader:\n",
    "            utt_cps_l = utt_cps_f_l\n",
    "            if not cps_f_b:\n",
    "                utt_cps_l = utt_cps_i_l\n",
    "            output = model(utt_bert_l.to(device), utt_open_l.to(device), utt_cps_l.to(device), utt_action_l.to(device), utt_gamr_l.to(device), hyperparam, modalities).to(device)\n",
    "            # target = utt_y_l[-1].to(device)\n",
    "            target = utt_y.to(device)\n",
    "            if output_size == 1:\n",
    "                target_binary = torch.zeros(target.size()[0], 1).to(device)\n",
    "                for i,t in enumerate(target):\n",
    "                    target_binary[i] = torch.Tensor([t[class_to_eval]])\n",
    "                loss = criterion(torch.sigmoid(output), target_binary)\n",
    "            else:\n",
    "                loss = criterion(output, target)\n",
    "            batch_loss.append(loss)\n",
    "            loss.backward()\n",
    "            optimizer.step()\n",
    "            optimizer.zero_grad()\n",
    "        nepochs += 1\n",
    "        epoch_loss.append(sum(batch_loss)/len(batch_loss))\n",
    "    return model, epoch_loss"
   ]
  },
  {
   "cell_type": "code",
   "execution_count": 30,
   "metadata": {},
   "outputs": [],
   "source": [
    "def rec_test(model, test_loader, class_to_eval, hyperparam, modalities, output_size):\n",
    "    with torch.no_grad():\n",
    "        model.eval()\n",
    "        cps_f_b = modalities[\"cps_f_b\"]\n",
    "        true, pred = None, None\n",
    "        for utt_bert_l, utt_open_l, utt_cps_f_l, utt_cps_i_l, utt_action_l, utt_gamr_l, utt_y in test_loader:\n",
    "            utt_cps_l = utt_cps_f_l\n",
    "            if not cps_f_b:\n",
    "                utt_cps_l = utt_cps_i_l\n",
    "            output = model(utt_bert_l.to(device), utt_open_l.to(device), utt_cps_l.to(device), utt_action_l.to(device), utt_gamr_l.to(device), hyperparam, modalities).to(device)\n",
    "            # target = utt_y_l[-1].to(device)\n",
    "            target = utt_y.to(device)\n",
    "            if output_size == 1:\n",
    "                pred_tmp = torch.sigmoid(output)\n",
    "                true_binary = torch.zeros(target.size()[0], 1)\n",
    "                for i, t in enumerate(target):\n",
    "                    true_binary[i] = torch.Tensor([t[class_to_eval]])\n",
    "                if true == None:\n",
    "                    true = true_binary\n",
    "                    pred = pred_tmp > 0.5\n",
    "                    pred_probs = pred_tmp\n",
    "\n",
    "                else :\n",
    "                    true = torch.cat((true, true_binary))\n",
    "                    pred = torch.cat((pred, pred_tmp > 0.5))\n",
    "                    pred_probs = torch.cat((pred_probs, pred_tmp))\n",
    "                    \n",
    "            \n",
    "            else:\n",
    "                softmax = torch.nn.Softmax(dim=1)\n",
    "                target_ = torch.clone(target)\n",
    "                true_tmp = target_.cpu().numpy()\n",
    "                preds_tmp = softmax(output).cpu().detach().numpy()\n",
    "\n",
    "                if true == None:\n",
    "                    true = torch.argmax(torch.from_numpy(true_tmp), dim=1)\n",
    "                    pred = torch.argmax(torch.from_numpy(preds_tmp), dim=1)\n",
    "                    pred_probs = torch.tensor(preds_tmp)\n",
    "                else:\n",
    "                    true = torch.cat((true, torch.argmax(torch.from_numpy(true_tmp), dim=1)))\n",
    "                    pred = torch.cat((pred, torch.argmax(torch.from_numpy(preds_tmp), dim=1)))\n",
    "                    pred_probs = torch.cat((pred_probs, torch.tensor(preds_tmp)))\n",
    "        \n",
    "    return true.int().cpu(), pred.int().cpu(), pred_probs.cpu()\n"
   ]
  },
  {
   "cell_type": "code",
   "execution_count": 31,
   "metadata": {},
   "outputs": [],
   "source": [
    "def triplet_train(model, total_epochs, lr, train_loader, hyperparam, modalities, output_size):\n",
    "    \n",
    "    optimizer = optim.Adam(model.parameters(), lr=lr)\n",
    "    epoch_loss = []\n",
    "    cps_f_b = modalities[\"cps_f_b\"]\n",
    "    model.train()\n",
    "    # miner = miners.MultiSimilarityMiner()\n",
    "    loss_func = losses.ContrastiveLoss(pos_margin=0, neg_margin=1)\n",
    "    loss_func = losses.AngularLoss(alpha=40)\n",
    "    loss_func = losses.CircleLoss(m=0.4, gamma=80)\n",
    "    loss_func = losses.TripletMarginLoss()\n",
    "    for _ in range(total_epochs) :\n",
    "        batch_loss = []\n",
    "        for utt_bert_l, utt_open_l, utt_cps_f_l, utt_cps_i_l, utt_action_l, utt_gamr_l, utt_y in train_loader:\n",
    "            utt_cps_l = utt_cps_f_l\n",
    "            if not cps_f_b:\n",
    "                utt_cps_l = utt_cps_i_l\n",
    "            embeddings = model.get_embeddings(utt_bert_l.to(device), utt_open_l.to(device), utt_cps_l.to(device), utt_action_l.to(device), utt_gamr_l.to(device), hyperparam, modalities).to(device)\n",
    "            target = utt_y.to(device)\n",
    "            target = target.argmax(axis=1)\n",
    "            # hard_pairs = miner(embeddings, target)\n",
    "            # loss = loss_func(embeddings, target, hard_pairs)\n",
    "            loss = loss_func(embeddings, target)\n",
    "            batch_loss.append(loss)\n",
    "            loss.backward()\n",
    "            optimizer.step()\n",
    "            optimizer.zero_grad()\n",
    "        epoch_loss.append(sum(batch_loss)/len(batch_loss))\n",
    "    return model, epoch_loss"
   ]
  },
  {
   "cell_type": "code",
   "execution_count": 32,
   "metadata": {},
   "outputs": [],
   "source": [
    "# model weight initialization\n",
    "def model_initilization(model):\n",
    "    b = True\n",
    "    for layer in model.modules():\n",
    "        if b:\n",
    "            b = False\n",
    "        else:\n",
    "            try:\n",
    "                # torch.nn.init.xavier_uniform(layer.weight)\n",
    "                nn.init.kaiming_uniform_(layer.weight, mode='fan_in', nonlinearity='relu')\n",
    "                layer.bias.data.fill_(0.01)\n",
    "            except:\n",
    "                continue\n",
    "    return model"
   ]
  },
  {
   "cell_type": "code",
   "execution_count": 33,
   "metadata": {},
   "outputs": [],
   "source": [
    "hyperparam = {\"lin_layers\":True, \"hidden_size\":256, \"lstm_hidden_size\":512, \"lstm_input_size\":512, \"ff1_size\":512, \"ff2_size\":512}\n",
    "modalities = {\"bert_b\":True, \"opensmile_b\":True, \"cps_b\":True, \"cps_f_b\":True, \"action_b\":True, \"gamr_b\":True}"
   ]
  },
  {
   "cell_type": "code",
   "execution_count": 34,
   "metadata": {},
   "outputs": [],
   "source": [
    "# data = pd.read_csv(\"multinomial_triplet_loss.csv\")\n",
    "# data = data[data[\"llm\"] == \"bert-base-uncased\"]\n",
    "# metrics = list(data.columns)[9:]\n",
    "# best_df = pd.DataFrame()\n",
    "# for metric in metrics:\n",
    "#     best = data.sort_values(by=metric, ascending=False).iloc[0]\n",
    "#     best_df = pd.concat((best_df, best.to_frame().T), ignore_index=True)\n",
    "# best_df.to_csv(\"best_models.csv\", index=False)"
   ]
  },
  {
   "cell_type": "code",
   "execution_count": 42,
   "metadata": {},
   "outputs": [],
   "source": [
    "output_size = 3\n",
    "model = rec_common_ground(hyperparam, modalities, output_size=output_size)\n",
    "model.to(device)\n",
    "model = model_initilization(model)"
   ]
  },
  {
   "cell_type": "code",
   "execution_count": 43,
   "metadata": {},
   "outputs": [],
   "source": [
    "model, epoch_loss = triplet_train(model, 200, 0.0001, rec_train_loader, hyperparam, modalities, output_size)"
   ]
  },
  {
   "cell_type": "code",
   "execution_count": 44,
   "metadata": {},
   "outputs": [
    {
     "data": {
      "text/plain": [
       "[tensor(0., device='cuda:0', grad_fn=<DivBackward0>),\n",
       " tensor(0., device='cuda:0', grad_fn=<DivBackward0>),\n",
       " tensor(0., device='cuda:0', grad_fn=<DivBackward0>),\n",
       " tensor(0., device='cuda:0', grad_fn=<DivBackward0>),\n",
       " tensor(0., device='cuda:0', grad_fn=<DivBackward0>),\n",
       " tensor(0., device='cuda:0', grad_fn=<DivBackward0>),\n",
       " tensor(0., device='cuda:0', grad_fn=<DivBackward0>),\n",
       " tensor(0., device='cuda:0', grad_fn=<DivBackward0>),\n",
       " tensor(0., device='cuda:0', grad_fn=<DivBackward0>),\n",
       " tensor(0., device='cuda:0', grad_fn=<DivBackward0>)]"
      ]
     },
     "execution_count": 44,
     "metadata": {},
     "output_type": "execute_result"
    }
   ],
   "source": [
    "epoch_loss[-10:]"
   ]
  },
  {
   "cell_type": "code",
   "execution_count": 45,
   "metadata": {},
   "outputs": [],
   "source": [
    "total_embeddings = torch.Tensor().to(device)\n",
    "targets = torch.Tensor().to(device)\n",
    "for utt_bert_l, utt_open_l, utt_cps_f_l, utt_cps_i_l, utt_action_l, utt_gamr_l, utt_y in rec_train_loader:\n",
    "    utt_cps_l = utt_cps_f_l\n",
    "    embeddings = model.get_embeddings(utt_bert_l.to(device), utt_open_l.to(device), utt_cps_l.to(device), utt_action_l.to(device), utt_gamr_l.to(device), hyperparam, modalities).to(device)\n",
    "    total_embeddings = torch.cat((total_embeddings, embeddings))\n",
    "    \n",
    "    target = utt_y.to(device)\n",
    "    target = target.argmax(axis=1)\n",
    "    targets = torch.cat((targets, target))\n",
    "targets = targets.to(\"cpu\")\n",
    "total_embeddings = total_embeddings.to(\"cpu\")\n",
    "pca = PCA(n_components=2)\n",
    "pca.fit(total_embeddings.detach().numpy(), targets.detach().numpy())\n",
    "x_pca = pca.transform(total_embeddings.detach().numpy())"
   ]
  },
  {
   "cell_type": "code",
   "execution_count": 46,
   "metadata": {},
   "outputs": [
    {
     "data": {
      "text/plain": [
       "Text(0.5, 1.0, 'PCA (2 components) for final embedding after triplet loss : Statement vs Accept vs other')"
      ]
     },
     "execution_count": 46,
     "metadata": {},
     "output_type": "execute_result"
    },
    {
     "data": {
      "image/png": "[encoded data removed]",
      "text/plain": [
       "<Figure size 1000x1000 with 1 Axes>"
      ]
     },
     "metadata": {},
     "output_type": "display_data"
    }
   ],
   "source": [
    "plt.figure(figsize=(10,10))\n",
    "plt.scatter(x_pca[:,0],x_pca[:,1],c=targets.detach().numpy(), alpha=1)\n",
    "plt.xlabel('pc1')\n",
    "plt.ylabel('pc2')\n",
    "plt.title(\"PCA (2 components) for final embedding after triplet loss : Statement vs Accept vs other\")"
   ]
  },
  {
   "cell_type": "code",
   "execution_count": 47,
   "metadata": {},
   "outputs": [],
   "source": [
    "model, epoch_loss = rec_train(model, 100, 0.001, rec_train_loader, 2, hyperparam, modalities, output_size)"
   ]
  },
  {
   "cell_type": "code",
   "execution_count": 48,
   "metadata": {},
   "outputs": [],
   "source": [
    "model, epoch_loss = rec_train(model, 200, 0.0001, rec_train_loader, 2, hyperparam, modalities, output_size)"
   ]
  },
  {
   "cell_type": "code",
   "execution_count": 49,
   "metadata": {},
   "outputs": [
    {
     "data": {
      "text/plain": [
       "[tensor(0., device='cuda:0', grad_fn=<DivBackward0>),\n",
       " tensor(0., device='cuda:0', grad_fn=<DivBackward0>),\n",
       " tensor(0., device='cuda:0', grad_fn=<DivBackward0>),\n",
       " tensor(0., device='cuda:0', grad_fn=<DivBackward0>),\n",
       " tensor(0., device='cuda:0', grad_fn=<DivBackward0>),\n",
       " tensor(0., device='cuda:0', grad_fn=<DivBackward0>),\n",
       " tensor(0., device='cuda:0', grad_fn=<DivBackward0>),\n",
       " tensor(0., device='cuda:0', grad_fn=<DivBackward0>),\n",
       " tensor(0., device='cuda:0', grad_fn=<DivBackward0>),\n",
       " tensor(0., device='cuda:0', grad_fn=<DivBackward0>)]"
      ]
     },
     "execution_count": 49,
     "metadata": {},
     "output_type": "execute_result"
    }
   ],
   "source": [
    "epoch_loss[-10:]"
   ]
  },
  {
   "cell_type": "code",
   "execution_count": 50,
   "metadata": {},
   "outputs": [],
   "source": [
    "true, pred, pred_probs = rec_test(model, rec_test_loader, 2, hyperparam, modalities, output_size)"
   ]
  },
  {
   "cell_type": "code",
   "execution_count": 51,
   "metadata": {},
   "outputs": [
    {
     "name": "stdout",
     "output_type": "stream",
     "text": [
      "(tensor([0, 1, 2], dtype=torch.int32), tensor([19,  5,  1]))\n",
      "(tensor([0, 1], dtype=torch.int32), tensor([21,  4]))\n"
     ]
    }
   ],
   "source": [
    "print(true.unique(return_counts=True))\n",
    "print(pred.unique(return_counts=True))"
   ]
  },
  {
   "cell_type": "code",
   "execution_count": 35,
   "metadata": {},
   "outputs": [],
   "source": [
    "labels = [\"Statement\", \"Accept\", \"Doubt\"]"
   ]
  },
  {
   "cell_type": "code",
   "execution_count": 53,
   "metadata": {},
   "outputs": [
    {
     "data": {
      "text/plain": [
       "(array([0, 1, 2]),\n",
       " [Text(0, 0, 'Statement'), Text(1, 0, 'Accept'), Text(2, 0, 'Doubt')])"
      ]
     },
     "execution_count": 53,
     "metadata": {},
     "output_type": "execute_result"
    },
    {
     "data": {
      "image/png": "[encoded data removed]",
      "text/plain": [
       "<Figure size 640x480 with 2 Axes>"
      ]
     },
     "metadata": {},
     "output_type": "display_data"
    }
   ],
   "source": [
    "conf_matrix = confusion_matrix(true, pred)\n",
    "ConfusionMatrixDisplay(conf_matrix, display_labels=np.array(labels)[true.unique().tolist()].tolist()).plot()\n",
    "plt.xticks(rotation=-45)"
   ]
  },
  {
   "cell_type": "code",
   "execution_count": 54,
   "metadata": {},
   "outputs": [],
   "source": [
    "true = true.cpu()\n",
    "pred = pred.cpu()\n",
    "accuracy = accuracy_score(true, pred)\n",
    "\n",
    "micro_f1_score = f1_score(true, pred, average=\"micro\")\n",
    "macro_f1_score = f1_score(true, pred, average=\"macro\")\n",
    "weighted_f1_score = f1_score(true, pred, average=\"weighted\")\n",
    "\n",
    "micro_precision = precision_score(true, pred, average=\"micro\")\n",
    "macro_precision = precision_score(true, pred, average=\"macro\")\n",
    "weighted_precision = precision_score(true, pred, average=\"weighted\")\n",
    "\n",
    "micro_recall = recall_score(true, pred, average=\"micro\")\n",
    "macro_recall = recall_score(true, pred, average=\"macro\")\n",
    "weighted_recall = recall_score(true, pred, average=\"weighted\")\n",
    "\n",
    "if output_size == 1:\n",
    "    auroc = roc_auc_score(true.cpu(), pred_probs.cpu())\n",
    "else: \n",
    "    auroc = roc_auc_score(true, pred_probs, multi_class='ovo')"
   ]
  },
  {
   "cell_type": "code",
   "execution_count": 55,
   "metadata": {},
   "outputs": [
    {
     "name": "stdout",
     "output_type": "stream",
     "text": [
      "accuracy : 0.6800\n",
      "\n",
      "micro f1_score : 0.6800\n",
      "macro f1_score : 0.3407\n",
      "weighted f1_score : 0.6524\n",
      "\n",
      "micro precision : 0.6800\n",
      "macro precision : 0.3373\n",
      "weighted precision : 0.6290\n",
      "\n",
      "micro recall : 0.6800\n",
      "macro recall : 0.3474\n",
      "weighted recall : 0.6800\n",
      "\n",
      "auroc : 0.3912\n"
     ]
    }
   ],
   "source": [
    "print(f\"accuracy : {accuracy:.4f}\\n\")\n",
    "\n",
    "print(f\"micro f1_score : {micro_f1_score:.4f}\")\n",
    "print(f\"macro f1_score : {macro_f1_score:.4f}\")\n",
    "print(f\"weighted f1_score : {weighted_f1_score:.4f}\\n\")\n",
    "\n",
    "print(f\"micro precision : {micro_precision:.4f}\")\n",
    "print(f\"macro precision : {macro_precision:.4f}\")\n",
    "print(f\"weighted precision : {weighted_precision:.4f}\\n\")\n",
    "\n",
    "print(f\"micro recall : {micro_recall:.4f}\")\n",
    "print(f\"macro recall : {macro_recall:.4f}\")\n",
    "print(f\"weighted recall : {weighted_recall:.4f}\\n\")\n",
    "\n",
    "print(f\"auroc : {auroc:.4f}\")"
   ]
  },
  {
   "cell_type": "code",
   "execution_count": 56,
   "metadata": {},
   "outputs": [],
   "source": [
    "true, pred, pred_probs = rec_test(model, rec_val_loader, 2, hyperparam, modalities, output_size)"
   ]
  },
  {
   "cell_type": "code",
   "execution_count": 67,
   "metadata": {},
   "outputs": [
    {
     "data": {
      "image/png": "[encoded data removed]",
      "text/plain": [
       "<Figure size 640x480 with 2 Axes>"
      ]
     },
     "metadata": {},
     "output_type": "display_data"
    }
   ],
   "source": [
    "conf_matrix = confusion_matrix(true, pred)\n",
    "ConfusionMatrixDisplay(conf_matrix, display_labels=np.array(labels)[true.unique().tolist()].tolist()).plot()\n",
    "plt.xticks(rotation=-45)\n",
    "plt.tight_layout()\n",
    "plt.savefig(\"test.jpg\", dpi=200)"
   ]
  },
  {
   "cell_type": "code",
   "execution_count": 51,
   "metadata": {},
   "outputs": [],
   "source": [
    "true = true.cpu()\n",
    "pred = pred.cpu()\n",
    "accuracy = accuracy_score(true, pred)\n",
    "\n",
    "micro_f1_score = f1_score(true, pred, average=\"micro\")\n",
    "macro_f1_score = f1_score(true, pred, average=\"macro\")\n",
    "weighted_f1_score = f1_score(true, pred, average=\"weighted\")\n",
    "\n",
    "micro_precision = precision_score(true, pred, average=\"micro\")\n",
    "macro_precision = precision_score(true, pred, average=\"macro\")\n",
    "weighted_precision = precision_score(true, pred, average=\"weighted\")\n",
    "\n",
    "micro_recall = recall_score(true, pred, average=\"micro\")\n",
    "macro_recall = recall_score(true, pred, average=\"macro\")\n",
    "weighted_recall = recall_score(true, pred, average=\"weighted\")\n",
    "\n",
    "# if output_size == 1:\n",
    "#     auroc = roc_auc_score(true.cpu(), pred_probs.cpu())\n",
    "# else: \n",
    "#     auroc = roc_auc_score(true, pred_probs, multi_class='ovo')"
   ]
  },
  {
   "cell_type": "code",
   "execution_count": 52,
   "metadata": {},
   "outputs": [
    {
     "name": "stdout",
     "output_type": "stream",
     "text": [
      "accuracy : 0.8235\n",
      "\n",
      "micro f1_score : 0.8235\n",
      "macro f1_score : 0.6483\n",
      "weighted f1_score : 0.7943\n",
      "\n",
      "micro precision : 0.8235\n",
      "macro precision : 0.7527\n",
      "weighted precision : 0.8033\n",
      "\n",
      "micro recall : 0.8235\n",
      "macro recall : 0.6243\n",
      "weighted recall : 0.8235\n",
      "\n"
     ]
    }
   ],
   "source": [
    "print(f\"accuracy : {accuracy:.4f}\\n\")\n",
    "\n",
    "print(f\"micro f1_score : {micro_f1_score:.4f}\")\n",
    "print(f\"macro f1_score : {macro_f1_score:.4f}\")\n",
    "print(f\"weighted f1_score : {weighted_f1_score:.4f}\\n\")\n",
    "\n",
    "print(f\"micro precision : {micro_precision:.4f}\")\n",
    "print(f\"macro precision : {macro_precision:.4f}\")\n",
    "print(f\"weighted precision : {weighted_precision:.4f}\\n\")\n",
    "\n",
    "print(f\"micro recall : {micro_recall:.4f}\")\n",
    "print(f\"macro recall : {macro_recall:.4f}\")\n",
    "print(f\"weighted recall : {weighted_recall:.4f}\\n\")\n",
    "\n",
    "# print(f\"auroc : {auroc:.4f}\")"
   ]
  },
  {
   "cell_type": "markdown",
   "metadata": {},
   "source": [
    "Grid Search"
   ]
  },
  {
   "cell_type": "code",
   "execution_count": 53,
   "metadata": {},
   "outputs": [],
   "source": [
    "LLMs = [\"bert-base-uncased\", \"bert-large-uncased\", \"albert\", \"roberta\", \"xlm\"]\n",
    "n_folds = [5] # train test valid\n",
    "window_sizes = [3]\n",
    "lrs = [0.001]\n",
    "output_sizes = [1, 8, 9] # [binary, multinomial without negatives, multinomial with all utterances]\n",
    "bert_b_l = [True, False]\n",
    "opensmile_b_l = [True, False]\n",
    "action_b_l = [True, False]\n",
    "gamr_b_l = [True, False]\n",
    "cps_b_l = [True, False]\n",
    "cps_f_b_l = [True, False]\n",
    "lin_layers_l = [True, False]\n"
   ]
  },
  {
   "cell_type": "code",
   "execution_count": 54,
   "metadata": {},
   "outputs": [],
   "source": [
    "# layer_sizes = [64, 128, 256, 384, 512, 768, 1024]\n",
    "# layer_sizes = [128]\n",
    "# layer_sizes = [3, 2]\n",
    "# layer_sizes = [128, 256, 512]\n",
    "# boo = [True, False]\n",
    "# output_size = 3\n",
    "# results_dataframe = pd.DataFrame()\n",
    "# hyperparam = {\"lin_layers\":True, \"hidden_size\":512, \"lstm_hidden_size\":512, \"lstm_input_size\":128, \"ff1_size\":256, \"ff2_size\":384}\n",
    "# modalities = {\"bert_b\":True, \"opensmile_b\":True, \"cps_b\":True, \"cps_f_b\":True, \"action_b\":True, \"gamr_b\":True}\n",
    "\n",
    "# for LLM in LLMs:\n",
    "#     for window_size in window_sizes:\n",
    "#         test_group = 2\n",
    "#         val_group = 5\n",
    "#         train_data = get_data(test_group, val_group, window_size)\n",
    "#         test_data = get_group_k(test_group, window_size)\n",
    "#         val_data = get_group_k(val_group, window_size)\n",
    "#         train_data = remove_non_cga(train_data)\n",
    "#         test_data = remove_non_cga(test_data)\n",
    "#         val_data = remove_non_cga(val_data)\n",
    "#         train_dataset = rec_dataset(train_data, window_size)\n",
    "#         test_dataset = rec_dataset(test_data, window_size)\n",
    "#         val_dataset = rec_dataset(val_data, window_size)\n",
    "#         smote_preprocess(train_dataset, window_size)\n",
    "#         rec_train_loader = DataLoader(dataset=train_dataset, batch_size=16, shuffle=True)\n",
    "#         rec_test_loader = DataLoader(dataset=test_dataset, batch_size=16, shuffle=False)\n",
    "#         rec_val_loader = DataLoader(dataset=val_dataset, batch_size=16, shuffle=False)\n",
    "        \n",
    "#         for hid_size in layer_sizes:\n",
    "#             for lstm_hid in layer_sizes:\n",
    "#                 for lstm_inp in layer_sizes:\n",
    "#                     for ff1 in layer_sizes:\n",
    "#                         for ff2 in layer_sizes:\n",
    "#                             for b in boo:\n",
    "                                \n",
    "#                                 hyperparam[\"hidden_size\"] = hid_size\n",
    "#                                 hyperparam[\"lstm_hidden_size\"] = lstm_hid\n",
    "#                                 hyperparam[\"lstm_input_size\"] = lstm_inp\n",
    "#                                 hyperparam[\"ff1_size\"] = ff1\n",
    "#                                 hyperparam[\"ff2_size\"] = ff2\n",
    "#                                 hyperparam[\"lin_layers\"] = b\n",
    "\n",
    "#                                 model = rec_common_ground(hyperparam, modalities, output_size=output_size)\n",
    "#                                 model.to(device)\n",
    "#                                 model = model_initilization(model)\n",
    "#                                 model, epoch_loss = triplet_train(model, 200, 0.0001, rec_train_loader, hyperparam, modalities, output_size)\n",
    "\n",
    "#                                 model, epoch_loss = rec_train(model, 100, 0.001, rec_train_loader, 2, hyperparam, modalities, output_size)\n",
    "#                                 model, epoch_loss = rec_train(model, 200, 0.0001, rec_train_loader, 2, hyperparam, modalities, output_size)\n",
    "#                                 true, pred, pred_probs = rec_test(model, rec_test_loader, 2, hyperparam, modalities, output_size)\n",
    "#                                 true, pred = true.cpu(), pred.cpu()\n",
    "\n",
    "#                                 accuracy = accuracy_score(true, pred)\n",
    "\n",
    "#                                 micro_f1_score = f1_score(true, pred, average=\"micro\")\n",
    "#                                 macro_f1_score = f1_score(true, pred, average=\"macro\")\n",
    "#                                 weighted_f1_score = f1_score(true, pred, average=\"weighted\")\n",
    "\n",
    "#                                 micro_precision = precision_score(true, pred, average=\"micro\")\n",
    "#                                 macro_precision = precision_score(true, pred, average=\"macro\")\n",
    "#                                 weighted_precision = precision_score(true, pred, average=\"weighted\")\n",
    "\n",
    "#                                 micro_recall = recall_score(true, pred, average=\"micro\")\n",
    "#                                 macro_recall = recall_score(true, pred, average=\"macro\")\n",
    "#                                 weighted_recall = recall_score(true, pred, average=\"weighted\")\n",
    "\n",
    "#                                 auroc = roc_auc_score(true, pred_probs, multi_class='ovo')\n",
    "\n",
    "\n",
    "#                                 true, pred, pred_probs = rec_test(model, rec_val_loader, 2, hyperparam, modalities, output_size)\n",
    "\n",
    "#                                 true = true.cpu()\n",
    "#                                 pred = pred.cpu()\n",
    "#                                 accuracy_val = accuracy_score(true, pred)\n",
    "\n",
    "#                                 micro_f1_score_val = f1_score(true, pred, average=\"micro\")\n",
    "#                                 macro_f1_score_val = f1_score(true, pred, average=\"macro\")\n",
    "#                                 weighted_f1_score_val = f1_score(true, pred, average=\"weighted\")\n",
    "\n",
    "#                                 micro_precision_val = precision_score(true, pred, average=\"micro\")\n",
    "#                                 macro_precision_val = precision_score(true, pred, average=\"macro\")\n",
    "#                                 weighted_precision_val = precision_score(true, pred, average=\"weighted\")\n",
    "\n",
    "#                                 micro_recall_val = recall_score(true, pred, average=\"micro\")\n",
    "#                                 macro_recall_val = recall_score(true, pred, average=\"macro\")\n",
    "#                                 weighted_recall_val = recall_score(true, pred, average=\"weighted\")\n",
    "\n",
    "#                                 results_dataframe=pd.concat([results_dataframe,pd.DataFrame({'lin_layers':[b],\n",
    "#                                                                                                 'hidden_size':[hyperparam[\"hidden_size\"]],\n",
    "#                                                                                                 'lstm_hidden_size':[hyperparam[\"lstm_hidden_size\"]],\n",
    "#                                                                                                 'lstm_input_size':[hyperparam[\"lstm_input_size\"]],\n",
    "#                                                                                                 'ff1_size':[hyperparam[\"ff1_size\"]],\n",
    "#                                                                                                 'ff2_size':[hyperparam[\"ff2_size\"]],\n",
    "#                                                                                                 'epochs':[300],\n",
    "#                                                                                                 'llm':[LLM],\n",
    "#                                                                                                 'train_loss':[epoch_loss[-1].item()],\n",
    "#                                                                                                 'accuracy_test':[accuracy],\n",
    "#                                                                                                 'micro_f1_score_test':[micro_f1_score],\n",
    "#                                                                                                 'macro_f1_score_test':[macro_f1_score],\n",
    "#                                                                                                 'weighted_f1_score_test':[weighted_f1_score],\n",
    "#                                                                                                 'micro_precision_test':[micro_precision],\n",
    "#                                                                                                 'macro_precision_test':[macro_precision],\n",
    "#                                                                                                 'weighted_precision_test':[weighted_precision],\n",
    "#                                                                                                 'micro_recall_test':[micro_recall],\n",
    "#                                                                                                 'macro_recall_test':[macro_recall],\n",
    "#                                                                                                 'weighted_recall_test':[weighted_recall],\n",
    "#                                                                                                 'auroc_test':[auroc],\n",
    "#                                                                                                 'accuracy_val':[accuracy_val],\n",
    "#                                                                                                 'micro_f1_score_val':[micro_f1_score_val],\n",
    "#                                                                                                 'macro_f1_score_val':[macro_f1_score_val],\n",
    "#                                                                                                 'weighted_f1_score_val':[weighted_f1_score_val],\n",
    "#                                                                                                 'micro_precision_val':[micro_precision_val],\n",
    "#                                                                                                 'macro_precision_val':[macro_precision_val],\n",
    "#                                                                                                 'weighted_precision_val':[weighted_precision_val],\n",
    "#                                                                                                 'micro_recall_val':[micro_recall_val],\n",
    "#                                                                                                 'macro_recall_val':[macro_recall_val],\n",
    "#                                                                                                 'weighted_recall_val':[weighted_recall_val]})])\n",
    "#                                 results_dataframe.to_csv(\"multinomial_triplet_loss.csv\", index=False)\n",
    "#                                 model_name = f\"{str(LLM)}\"\n",
    "#                                 for hyp in hyperparam.values():\n",
    "#                                     model_name += '_'+str(hyp)\n",
    "#                                 torch.save(model, f\"save_triplet/{model_name}.pt\")\n"
   ]
  },
  {
   "cell_type": "code",
   "execution_count": 35,
   "metadata": {},
   "outputs": [],
   "source": [
    "window_size = 3\n",
    "output_size = 3\n",
    "hyperparam = {\"lin_layers\":True, \"hidden_size\":256, \"lstm_hidden_size\":512, \"lstm_input_size\":512, \"ff1_size\":512, \"ff2_size\":512}\n",
    "modalities = {\"bert_b\":True, \"opensmile_b\":True, \"cps_b\":True, \"cps_f_b\":True, \"action_b\":True, \"gamr_b\":True}\n",
    "labels = [\"Statement\", \"Accept\", \"Doubt\"]\n",
    "\n",
    "accuracies = []\n",
    "micro_f1_scores = []\n",
    "macro_f1_scores = []\n",
    "weighted_f1_scores = []\n",
    "micro_precisions = []\n",
    "macro_precisions = []\n",
    "weighted_precisions = []\n",
    "micro_recalls = []\n",
    "macro_recalls = []\n",
    "weighted_recalls = []\n",
    "aurocs = []\n",
    "\n",
    "for group in range(1, 11):\n",
    "    torch.manual_seed(30)\n",
    "    torch.cuda.manual_seed(30)\n",
    "    train_data = get_data(group, 12, window_size)\n",
    "    test_data = get_group_k(group, window_size)\n",
    "    train_data = remove_non_cga(train_data)\n",
    "    test_data = remove_non_cga(test_data)\n",
    "    train_dataset = rec_dataset(train_data, window_size)\n",
    "    test_dataset = rec_dataset(test_data, window_size)\n",
    "    smote_preprocess(train_dataset, window_size)\n",
    "    rec_train_loader = DataLoader(dataset=train_dataset, batch_size=16, shuffle=True)\n",
    "    rec_test_loader = DataLoader(dataset=test_dataset, batch_size=16, shuffle=False)\n",
    "\n",
    "    model = rec_common_ground(hyperparam, modalities, output_size=output_size)\n",
    "    model.to(device)\n",
    "    model = model_initilization(model)\n",
    "    # model, epoch_loss = triplet_train(model, 200, 0.0001, rec_train_loader, hyperparam, modalities, output_size)\n",
    "\n",
    "    model, epoch_loss = rec_train(model, 100, 0.001, rec_train_loader, 2, hyperparam, modalities, output_size)\n",
    "    # model, epoch_loss = rec_train(model, 200, 0.0001, rec_train_loader, 2, hyperparam, modalities, output_size)\n",
    "    # model = torch.load(f\"best_triplet_{group:02d}.pt\")\n",
    "    model, epoch_loss = rec_train(model, 100, 0.0001, rec_train_loader, 2, hyperparam, modalities, output_size)\n",
    "    true, pred, pred_probs = rec_test(model, rec_test_loader, 2, hyperparam, modalities, output_size)\n",
    "    true, pred = true.cpu(), pred.cpu()\n",
    "\n",
    "    accuracy = accuracy_score(true, pred)\n",
    "\n",
    "    micro_f1_score = f1_score(true, pred, average=\"micro\")\n",
    "    macro_f1_score = f1_score(true, pred, average=\"macro\")\n",
    "    weighted_f1_score = f1_score(true, pred, average=\"weighted\")\n",
    "\n",
    "    micro_precision = precision_score(true, pred, average=\"micro\")\n",
    "    macro_precision = precision_score(true, pred, average=\"macro\")\n",
    "    weighted_precision = precision_score(true, pred, average=\"weighted\")\n",
    "\n",
    "    micro_recall = recall_score(true, pred, average=\"micro\")\n",
    "    macro_recall = recall_score(true, pred, average=\"macro\")\n",
    "    weighted_recall = recall_score(true, pred, average=\"weighted\")\n",
    "    conf_matrix = confusion_matrix(true, pred)\n",
    "    ConfusionMatrixDisplay(conf_matrix, display_labels=np.array(labels)[true.unique().tolist()].tolist()).plot()\n",
    "    plt.xticks(rotation=-45)\n",
    "    plt.tight_layout()\n",
    "    plt.savefig(f\"cm_{group:02d}.jpg\", dpi=200)\n",
    "\n",
    "    try:\n",
    "        auroc = roc_auc_score(true, pred_probs, multi_class='ovo')\n",
    "    except:\n",
    "        auroc = 0.5\n",
    "\n",
    "    accuracies.append(accuracy)\n",
    "    micro_f1_scores.append(micro_f1_score)\n",
    "    macro_f1_scores.append(macro_f1_score)\n",
    "    weighted_f1_scores.append(weighted_f1_score)\n",
    "    micro_precisions.append(micro_precision)\n",
    "    macro_precisions.append(macro_precision)\n",
    "    weighted_precisions.append(weighted_precision)\n",
    "    micro_recalls.append(micro_recall)\n",
    "    macro_recalls.append(macro_recall)\n",
    "    weighted_recalls.append(weighted_recall)\n",
    "    aurocs.append(auroc)\n",
    "\n",
    "    torch.save(model, f\"best_triplet_{group:02d}.pt\")\n"
   ]
  },
  {
   "cell_type": "code",
   "execution_count": null,
   "metadata": {},
   "outputs": [],
   "source": [
    "def avg(l):\n",
    "    return sum(l)/len(l)"
   ]
  },
  {
   "cell_type": "code",
   "execution_count": null,
   "metadata": {},
   "outputs": [
    {
     "name": "stdout",
     "output_type": "stream",
     "text": [
      "[0.625, 0.72, 0.75, 0.5, 0.7352941176470589, 0.6896551724137931, 0.42857142857142855, 0.5555555555555556, 0.8333333333333334, 0.4375]\n",
      "0.627490960752117\n"
     ]
    }
   ],
   "source": [
    "print(accuracies)\n",
    "print(avg(accuracies))"
   ]
  },
  {
   "cell_type": "code",
   "execution_count": null,
   "metadata": {},
   "outputs": [
    {
     "data": {
      "text/plain": [
       "0.13361279024410777"
      ]
     },
     "execution_count": 39,
     "metadata": {},
     "output_type": "execute_result"
    }
   ],
   "source": [
    "np.array(accuracies).std()"
   ]
  },
  {
   "cell_type": "code",
   "execution_count": null,
   "metadata": {},
   "outputs": [
    {
     "name": "stdout",
     "output_type": "stream",
     "text": [
      "[0.625, 0.72, 0.75, 0.5, 0.735294117647059, 0.6896551724137931, 0.42857142857142855, 0.5555555555555556, 0.8333333333333334, 0.4375]\n",
      "0.627490960752117\n"
     ]
    }
   ],
   "source": [
    "print(micro_f1_scores)\n",
    "print(avg(micro_f1_scores))"
   ]
  },
  {
   "cell_type": "code",
   "execution_count": null,
   "metadata": {},
   "outputs": [
    {
     "name": "stdout",
     "output_type": "stream",
     "text": [
      "[0.5636363636363636, 0.35975609756097565, 0.6210526315789474, 0.2352941176470588, 0.5119617224880383, 0.3752913752913753, 0.27116704805491987, 0.38888888888888884, 0.6516129032258065, 0.2028985507246377]\n",
      "0.41815596990970116\n"
     ]
    }
   ],
   "source": [
    "print(macro_f1_scores)\n",
    "print(avg(macro_f1_scores))"
   ]
  },
  {
   "cell_type": "code",
   "execution_count": null,
   "metadata": {},
   "outputs": [
    {
     "name": "stdout",
     "output_type": "stream",
     "text": [
      "[0.6045454545454545, 0.6802439024390244, 0.7684210526315791, 0.41176470588235287, 0.7061638052350128, 0.737159392331806, 0.4527078565980167, 0.5092592592592592, 0.7913978494623656, 0.3423913043478261]\n",
      "0.6004054582732697\n"
     ]
    }
   ],
   "source": [
    "print(weighted_f1_scores)\n",
    "print(avg(weighted_f1_scores))"
   ]
  },
  {
   "cell_type": "code",
   "execution_count": null,
   "metadata": {},
   "outputs": [
    {
     "name": "stdout",
     "output_type": "stream",
     "text": [
      "[0.625, 0.72, 0.75, 0.5, 0.7352941176470589, 0.6896551724137931, 0.42857142857142855, 0.5555555555555556, 0.8333333333333334, 0.4375]\n",
      "0.627490960752117\n"
     ]
    }
   ],
   "source": [
    "print(micro_precisions)\n",
    "print(avg(micro_precisions))"
   ]
  },
  {
   "cell_type": "code",
   "execution_count": null,
   "metadata": {},
   "outputs": [
    {
     "name": "stdout",
     "output_type": "stream",
     "text": [
      "[0.5833333333333333, 0.3686868686868687, 0.611111111111111, 0.19999999999999998, 0.525, 0.3824561403508772, 0.2883064516129032, 0.35497835497835495, 0.9117647058823529, 0.16666666666666666]\n",
      "0.43923036326224685\n"
     ]
    }
   ],
   "source": [
    "print(macro_precisions)\n",
    "print(avg(macro_precisions))"
   ]
  },
  {
   "cell_type": "code",
   "execution_count": null,
   "metadata": {},
   "outputs": [
    {
     "name": "stdout",
     "output_type": "stream",
     "text": [
      "[0.6041666666666666, 0.6539393939393939, 0.7962962962962963, 0.35000000000000003, 0.6867647058823529, 0.8373865698729582, 0.5255376344086021, 0.47258297258297255, 0.8627450980392157, 0.28125]\n",
      "0.6070669337688459\n"
     ]
    }
   ],
   "source": [
    "print(weighted_precisions)\n",
    "print(avg(weighted_precisions))"
   ]
  },
  {
   "cell_type": "code",
   "execution_count": null,
   "metadata": {},
   "outputs": [
    {
     "name": "stdout",
     "output_type": "stream",
     "text": [
      "[0.625, 0.72, 0.75, 0.5, 0.7352941176470589, 0.6896551724137931, 0.42857142857142855, 0.5555555555555556, 0.8333333333333334, 0.4375]\n",
      "0.627490960752117\n"
     ]
    }
   ],
   "source": [
    "print(micro_recalls)\n",
    "print(avg(micro_recalls))"
   ]
  },
  {
   "cell_type": "code",
   "execution_count": null,
   "metadata": {},
   "outputs": [
    {
     "name": "stdout",
     "output_type": "stream",
     "text": [
      "[0.5666666666666667, 0.3649122807017544, 0.65, 0.2857142857142857, 0.5158730158730158, 0.46222222222222226, 0.2984126984126984, 0.4333333333333333, 0.625, 0.25925925925925924]\n",
      "0.4461393762183235\n"
     ]
    }
   ],
   "source": [
    "print(macro_recalls)\n",
    "print(avg(macro_recalls))"
   ]
  },
  {
   "cell_type": "code",
   "execution_count": null,
   "metadata": {},
   "outputs": [
    {
     "name": "stdout",
     "output_type": "stream",
     "text": [
      "[0.625, 0.72, 0.75, 0.5, 0.7352941176470589, 0.6896551724137931, 0.42857142857142855, 0.5555555555555556, 0.8333333333333334, 0.4375]\n",
      "0.627490960752117\n"
     ]
    }
   ],
   "source": [
    "print(weighted_recalls)\n",
    "print(avg(weighted_recalls))"
   ]
  },
  {
   "cell_type": "code",
   "execution_count": null,
   "metadata": {},
   "outputs": [
    {
     "name": "stdout",
     "output_type": "stream",
     "text": [
      "[0.5, 0.5385964912280702, 0.5, 0.5634920634920635, 0.5, 0.5011111111111111, 0.4757936507936507, 0.668888888888889, 0.5, 0.5305836139169472]\n",
      "0.5278465819430733\n"
     ]
    }
   ],
   "source": [
    "print(aurocs)\n",
    "print(avg(aurocs))"
   ]
  },
  {
   "cell_type": "markdown",
   "metadata": {},
   "source": [
    "Done:\n",
    "\n",
    "check if any loss of CGA when using google's segments/oracle\n",
    "\n",
    "implement for loop for data processing with variable window size\n",
    "\n",
    "change window size\n",
    "\n",
    "format of model's input must be changed to list (update)\n",
    "\n",
    "try bert only and opensmile only (update)\n",
    "\n",
    "change architecture try less layers (update) (use LSTM only)\n",
    "\n",
    "oracle segments\n",
    "\n",
    "bert roberta albert xlm bert large\n",
    "\n",
    "change openBERT\n",
    "\n",
    "fix oracle mapping of cga\n",
    "\n",
    "oracle segmentations and transcripts\n",
    "\n",
    "set up cps (facet level (but make it interchangeable)) (check count vs train_datasets.targets)\n",
    "\n",
    "map cps to oracle \n",
    "\n",
    "gamr arg1 list\n",
    "\n",
    "map action and gamr to oracle\n",
    "\n",
    "set up actions\n",
    "\n",
    "GAMR feature input (discuss with ken on Thursday) (problem with group 4 and 6 (tier0 and tier1 instead of participant_1, 2 and 3))\n",
    "\n",
    "check if gamr is exclusive with oracle\n",
    "\n",
    "change window size function\n",
    "\n",
    "set up grid search \n",
    "\n",
    "Train the biggest model (using GPU) (all modalities, 200 epochs, all 10 groups, with lin_layers, )\n",
    "\n",
    "switch to multinomial + oracle check with 0s (instances where there's absence of cg), then without (only train on utterances with at least 1 cg) (loop through dataset and check last label for each utterance sequence, if 0 remove) (must change criterion)\n",
    "\n",
    "\n",
    "If imbalance problem still arises: add scaler, tune loss function to weighted loss  \n",
    "\n",
    "remove \"None\" label from target\n",
    "\n",
    "auroc \n",
    "\n",
    "how resampling works \n",
    "\n",
    "model initialization\n",
    "\n",
    "set random seed to a fixed state\n",
    "\n",
    "group 5 as test => constrained to use group 2 to get auroc => poor results (even with increased weights)\n",
    "\n",
    "increase weight for statement, accept and doubt\n",
    "\n",
    "Try SMOTE \n",
    "\n",
    "add loss of last epoch in model tracking CSV file in grid search\n",
    "\n",
    "fine tune models (hyperparams)+llm selection+ablation study (use dict for hyperparams)\n",
    "\n",
    "metric learning\n",
    "\n",
    "change grid search to account for smote, and val set results\n",
    "\n",
    "add gold standard data\n",
    "\n",
    "set torch.manual_seed(44) # different from cuda\n",
    "\n",
    "Run grid search\n",
    "\n",
    "make model diagram\n",
    "\n",
    "make 10 hold one group out models with best architecture\n"
   ]
  },
  {
   "cell_type": "code",
   "execution_count": null,
   "metadata": {},
   "outputs": [],
   "source": []
  },
  {
   "cell_type": "markdown",
   "metadata": {},
   "source": [
    "TO DO:\n",
    "\n",
    "train for more epochs and less learning rate the saved models\n",
    "\n",
    "compare with different LLMs\n",
    "\n",
    "all, each, speech+prosody, speech+gesture, action+cps, speech+each\n"
   ]
  }
 ],
 "metadata": {
  "kernelspec": {
   "display_name": "base",
   "language": "python",
   "name": "python3"
  },
  "language_info": {
   "codemirror_mode": {
    "name": "ipython",
    "version": 3
   },
   "file_extension": ".py",
   "mimetype": "text/x-python",
   "name": "python",
   "nbconvert_exporter": "python",
   "pygments_lexer": "ipython3",
   "version": "3.9.15"
  },
  "orig_nbformat": 4
 },
 "nbformat": 4,
 "nbformat_minor": 2
}
