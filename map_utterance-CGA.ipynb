{
 "cells": [
  {
   "cell_type": "markdown",
   "metadata": {},
   "source": [
    "This notebook maps common ground annotations to utterance IDs retrieved from the oracle transcripts provided by CSU.\n",
    "Edit the variables to match your paths and which groups you are running. \n",
    "utteranceDict is a dictionary of Groups.\n",
    "    Each group is a dictionary of utteranceIDs.\n",
    "        Each utterance is a dictionary of Start and End times, and the assosiated CGA annotation labels.\n",
    "Example: {'Group_01': {'Group_01_0': {'Start': 3.45, 'End': 7.14, 'CGA': ['S0']}}}\n",
    "\n",
    "Note: utteranceIDs can have multiple CGA labels. CGA labels may exist in multiple utterance IDs. This is due to speech overlap and CGA annotation."
   ]
  },
  {
   "cell_type": "code",
   "execution_count": 7,
   "metadata": {},
   "outputs": [],
   "source": [
    "import numpy as np\n",
    "import os\n",
    "import csv\n",
    "import math\n",
    "import statistics\n",
    "import pandas as pd"
   ]
  },
  {
   "cell_type": "code",
   "execution_count": 8,
   "metadata": {},
   "outputs": [],
   "source": [
    "#list the groups you are running\n",
    "groups = [\"Group_01\"]\n",
    "\n",
    "#list the file pattern to find the oracle and CGA annotations\n",
    "#use a dummy group to replace in the strings\n",
    "dummy_group = \"Group_00\"\n",
    "oracle_csv_naming =fr\"C:\\Users\\bradf\\OneDrive - Colostate\\Research\\Initial Observations for Fib Weights\\Data\\Weights Task Dataset\\{dummy_group}\\{dummy_group}_Oracle.csv\"\n",
    "cga_csv_naming = fr\"C:\\Users\\bradf\\OneDrive - Colostate\\Research\\Initial Observations for Fib Weights\\Data\\Weights Task Dataset\\{dummy_group}\\{dummy_group}_CGA.csv\"\n",
    "\n",
    "#utterance dictionary\n",
    "utteranceDict = {}\n",
    "for group in groups:\n",
    "    utteranceDict[group] = {}\n"
   ]
  },
  {
   "cell_type": "code",
   "execution_count": 9,
   "metadata": {},
   "outputs": [],
   "source": [
    "def mapStatementtoUtterance(group):\n",
    "    cga_csv = cga_csv_naming.replace(dummy_group, group)\n",
    "    cga_df = pd.read_csv(cga_csv)\n",
    "    cga_label = cga_df.loc[:, \"Common Ground\"]\n",
    "    cga_start = cga_df.loc[:, \"Begin Time - ss.msec\"]\n",
    "    cga_end = cga_df.loc[:, \"End Time - ss.msec\"]\n",
    "    for num in range(len(cga_label)):\n",
    "        label = cga_label[num].split(\":\")[0]\n",
    "        start = float(cga_start[num])\n",
    "        end = float(cga_end[num])\n",
    "        for utterance in utteranceDict[group]:\n",
    "            if (\"CGA\" not in utteranceDict[group][utterance]):\n",
    "                utteranceDict[group][utterance][\"CGA\"] = []\n",
    "            if (utteranceDict[group][utterance][\"Start\"] < end and utteranceDict[group][utterance][\"End\"] > start):\n",
    "                utteranceDict[group][utterance][\"CGA\"].append(label)\n",
    "        "
   ]
  },
  {
   "cell_type": "code",
   "execution_count": 10,
   "metadata": {},
   "outputs": [],
   "source": [
    "def getUtteranceDictionary(group):\n",
    "    oracle_csv = oracle_csv_naming.replace(dummy_group, group)\n",
    "    oracle_df = pd.read_csv(oracle_csv)\n",
    "    utterance_numbers = oracle_df.loc[:,\"Utterance\"]\n",
    "    utterance_start = oracle_df.loc[:,\"Start\"]\n",
    "    utterance_end = oracle_df.loc[:,\"End\"]\n",
    "    for num in utterance_numbers:\n",
    "        utteranceDict[group][f\"{group}_{num}\"] = {\"Start\":float(utterance_start[num]), \"End\":float(utterance_end[num])}\n"
   ]
  },
  {
   "cell_type": "code",
   "execution_count": 11,
   "metadata": {},
   "outputs": [
    {
     "name": "stdout",
     "output_type": "stream",
     "text": [
      "{'Group_01': {'Group_01_0': {'Start': 3.45, 'End': 7.14, 'CGA': []}, 'Group_01_1': {'Start': 9.87, 'End': 12.45, 'CGA': []}, 'Group_01_2': {'Start': 12.63, 'End': 15.75, 'CGA': []}, 'Group_01_3': {'Start': 16.2, 'End': 21.36, 'CGA': []}, 'Group_01_4': {'Start': 22.17, 'End': 24.27, 'CGA': []}, 'Group_01_5': {'Start': 24.42, 'End': 27.72, 'CGA': ['S024']}, 'Group_01_6': {'Start': 29.08, 'End': 29.83, 'CGA': ['ACCEPT(S024)']}, 'Group_01_7': {'Start': 29.84, 'End': 31.32, 'CGA': []}, 'Group_01_8': {'Start': 31.44, 'End': 34.56, 'CGA': []}, 'Group_01_9': {'Start': 35.01, 'End': 36.99, 'CGA': []}, 'Group_01_10': {'Start': 37.83, 'End': 47.82, 'CGA': []}, 'Group_01_11': {'Start': 48.27, 'End': 52.25, 'CGA': []}, 'Group_01_12': {'Start': 52.58, 'End': 54.84, 'CGA': []}, 'Group_01_13': {'Start': 54.93, 'End': 58.29, 'CGA': []}, 'Group_01_14': {'Start': 58.33, 'End': 58.84, 'CGA': []}, 'Group_01_15': {'Start': 59.22, 'End': 60.92, 'CGA': []}, 'Group_01_16': {'Start': 60.66, 'End': 62.49, 'CGA': []}, 'Group_01_17': {'Start': 62.58, 'End': 65.18, 'CGA': []}, 'Group_01_18': {'Start': 64.91, 'End': 69.66, 'CGA': []}, 'Group_01_19': {'Start': 69.81, 'End': 71.51, 'CGA': []}, 'Group_01_20': {'Start': 70.51, 'End': 70.01, 'CGA': []}, 'Group_01_21': {'Start': 72.25, 'End': 73.53, 'CGA': []}, 'Group_01_22': {'Start': 75.81, 'End': 77.17, 'CGA': []}, 'Group_01_23': {'Start': 77.51, 'End': 77.75, 'CGA': []}, 'Group_01_24': {'Start': 78.08, 'End': 80.58, 'CGA': ['O120']}, 'Group_01_25': {'Start': 78.58, 'End': 78.08, 'CGA': []}, 'Group_01_26': {'Start': 80.58, 'End': 84.3, 'CGA': ['S120', 'O124']}, 'Group_01_27': {'Start': 86.07, 'End': 87.41, 'CGA': []}, 'Group_01_28': {'Start': 87.48, 'End': 89.04, 'CGA': []}, 'Group_01_29': {'Start': 90.12, 'End': 92.13, 'CGA': []}, 'Group_01_30': {'Start': 95.19, 'End': 97.17, 'CGA': []}, 'Group_01_31': {'Start': 97.56, 'End': 102.03, 'CGA': ['ACCEPT(S134)', 'I138', 'S139']}, 'Group_01_32': {'Start': 102.39, 'End': 105.87, 'CGA': ['ACCEPT(S139)']}, 'Group_01_33': {'Start': 104.08, 'End': 104.58, 'CGA': ['ACCEPT(S139)']}, 'Group_01_34': {'Start': 106.23, 'End': 110.01, 'CGA': ['R146']}, 'Group_01_35': {'Start': 108.63, 'End': 109.33, 'CGA': ['R146']}, 'Group_01_36': {'Start': 110.16, 'End': 114.24, 'CGA': ['O150', 'R151', 'I152', 'S152', 'S153']}, 'Group_01_37': {'Start': 112.16, 'End': 112.92, 'CGA': ['I152', 'S152', 'S153']}, 'Group_01_38': {'Start': 114.87, 'End': 120.33, 'CGA': ['R155', 'O156', 'R159']}, 'Group_01_39': {'Start': 117.41, 'End': 118.25, 'CGA': []}, 'Group_01_40': {'Start': 121.2, 'End': 125.01, 'CGA': ['O201']}, 'Group_01_41': {'Start': 127.35, 'End': 132.0, 'CGA': ['S207', 'ACCEPT(S207)', 'S209', 'ACCEPT(S209)']}, 'Group_01_42': {'Start': 128.83, 'End': 130.08, 'CGA': ['S207', 'ACCEPT(S207)', 'S209', 'ACCEPT(S209)']}, 'Group_01_43': {'Start': 128.41, 'End': 130.75, 'CGA': ['S207', 'ACCEPT(S207)', 'S209', 'ACCEPT(S209)']}, 'Group_01_44': {'Start': 132.27, 'End': 139.65, 'CGA': ['O219']}, 'Group_01_45': {'Start': 135.33, 'End': 135.91, 'CGA': []}, 'Group_01_46': {'Start': 135.73, 'End': 136.41, 'CGA': []}, 'Group_01_47': {'Start': 140.73, 'End': 145.89, 'CGA': ['S221', 'ACCEPT(S221)']}, 'Group_01_48': {'Start': 142.91, 'End': 144.92, 'CGA': ['ACCEPT(S221)']}, 'Group_01_49': {'Start': 148.86, 'End': 159.42, 'CGA': ['ACCEPT(S221)', 'R231']}, 'Group_01_50': {'Start': 149.25, 'End': 154.25, 'CGA': ['ACCEPT(S221)', 'R231']}, 'Group_01_51': {'Start': 153.21, 'End': 155.25, 'CGA': ['R231']}, 'Group_01_52': {'Start': 159.6, 'End': 163.86, 'CGA': []}, 'Group_01_53': {'Start': 162.91, 'End': 163.86, 'CGA': []}, 'Group_01_54': {'Start': 164.37, 'End': 167.91, 'CGA': ['O246']}, 'Group_01_55': {'Start': 169.31, 'End': 171.99, 'CGA': []}, 'Group_01_56': {'Start': 172.56, 'End': 183.58, 'CGA': ['Q252', 'A254']}, 'Group_01_57': {'Start': 174.54, 'End': 185.08, 'CGA': ['A254']}, 'Group_01_58': {'Start': 185.33, 'End': 187.83, 'CGA': []}, 'Group_01_59': {'Start': 188.1, 'End': 189.5, 'CGA': []}, 'Group_01_60': {'Start': 189.91, 'End': 196.44, 'CGA': ['O312']}, 'Group_01_61': {'Start': 198.15, 'End': 202.14, 'CGA': ['Q318', 'A320']}, 'Group_01_62': {'Start': 200.31, 'End': 201.37, 'CGA': ['A320']}, 'Group_01_63': {'Start': 203.49, 'End': 204.34, 'CGA': []}, 'Group_01_64': {'Start': 204.58, 'End': 206.37, 'CGA': []}, 'Group_01_65': {'Start': 207.06, 'End': 210.87, 'CGA': []}, 'Group_01_66': {'Start': 211.29, 'End': 213.93, 'CGA': []}, 'Group_01_67': {'Start': 214.47, 'End': 216.45, 'CGA': []}, 'Group_01_68': {'Start': 216.63, 'End': 219.06, 'CGA': []}, 'Group_01_69': {'Start': 216.16, 'End': 217.66, 'CGA': []}, 'Group_01_70': {'Start': 219.33, 'End': 221.49, 'CGA': []}, 'Group_01_71': {'Start': 228.06, 'End': 231.51, 'CGA': ['O348']}, 'Group_01_72': {'Start': 231.54, 'End': 233.52, 'CGA': []}, 'Group_01_73': {'Start': 234.27, 'End': 239.82, 'CGA': ['Q354', 'A355', 'S357']}, 'Group_01_74': {'Start': 235.83, 'End': 237.58, 'CGA': ['A355', 'S357']}, 'Group_01_75': {'Start': 240.84, 'End': 242.82, 'CGA': []}, 'Group_01_76': {'Start': 251.88, 'End': 258.72, 'CGA': ['O411', 'Q412', 'Q414', 'A417', 'O418']}, 'Group_01_77': {'Start': 254.63, 'End': 255.31, 'CGA': ['Q414']}, 'Group_01_78': {'Start': 256.84, 'End': 257.01, 'CGA': ['A417']}, 'Group_01_79': {'Start': 260.01, 'End': 263.82, 'CGA': ['O422']}, 'Group_01_80': {'Start': 264.93, 'End': 267.36, 'CGA': ['I425']}, 'Group_01_81': {'Start': 268.08, 'End': 272.58, 'CGA': ['S425', 'ACCEPT(S425)']}, 'Group_01_82': {'Start': 267.57, 'End': 269.42, 'CGA': ['S425', 'ACCEPT(S425)']}, 'Group_01_83': {'Start': 274.26, 'End': 280.32, 'CGA': ['S434', 'ACCEPT(S434)']}, 'Group_01_84': {'Start': 275.75, 'End': 279.11, 'CGA': ['ACCEPT(S434)']}, 'Group_01_85': {'Start': 275.83, 'End': 277.75, 'CGA': ['ACCEPT(S434)']}, 'Group_01_86': {'Start': 281.25, 'End': 283.48, 'CGA': []}, 'Group_01_87': {'Start': 282.25, 'End': 286.26, 'CGA': ['S444', 'Q445']}, 'Group_01_88': {'Start': 286.56, 'End': 287.08, 'CGA': ['Q445']}, 'Group_01_89': {'Start': 288.92, 'End': 292.47, 'CGA': ['A448', 'O452']}, 'Group_01_90': {'Start': 288.91, 'End': 289.41, 'CGA': ['A448']}, 'Group_01_91': {'Start': 295.32, 'End': 304.62, 'CGA': []}, 'Group_01_92': {'Start': 296.48, 'End': 296.79, 'CGA': []}, 'Group_01_93': {'Start': 295.66, 'End': 302.75, 'CGA': []}, 'Group_01_94': {'Start': 304.68, 'End': 305.58, 'CGA': []}, 'Group_01_95': {'Start': 304.48, 'End': 306.03, 'CGA': []}, 'Group_01_96': {'Start': 305.91, 'End': 307.2, 'CGA': []}, 'Group_01_97': {'Start': 308.28, 'End': 312.3, 'CGA': []}, 'Group_01_98': {'Start': 312.93, 'End': 315.42, 'CGA': []}, 'Group_01_99': {'Start': 313.82, 'End': 314.42, 'CGA': []}, 'Group_01_100': {'Start': 315.66, 'End': 315.91, 'CGA': []}, 'Group_01_101': {'Start': 318.72, 'End': 321.81, 'CGA': []}, 'Group_01_102': {'Start': 321.84, 'End': 323.97, 'CGA': []}, 'Group_01_103': {'Start': 324.12, 'End': 339.63, 'CGA': []}, 'Group_01_104': {'Start': 331.17, 'End': 331.83, 'CGA': []}, 'Group_01_105': {'Start': 334.38, 'End': 336.33, 'CGA': []}, 'Group_01_106': {'Start': 337.08, 'End': 337.92, 'CGA': []}, 'Group_01_107': {'Start': 339.87, 'End': 341.85, 'CGA': []}, 'Group_01_108': {'Start': 342.06, 'End': 347.07, 'CGA': []}, 'Group_01_109': {'Start': 344.01, 'End': 347.07, 'CGA': []}, 'Group_01_110': {'Start': 350.73, 'End': 351.67, 'CGA': []}, 'Group_01_111': {'Start': 351.31, 'End': 351.75, 'CGA': []}, 'Group_01_112': {'Start': 351.65, 'End': 352.71, 'CGA': []}, 'Group_01_113': {'Start': 354.36, 'End': 359.76, 'CGA': []}, 'Group_01_114': {'Start': 361.23, 'End': 365.07, 'CGA': []}, 'Group_01_115': {'Start': 365.49, 'End': 367.98, 'CGA': []}, 'Group_01_116': {'Start': 368.7, 'End': 369.42, 'CGA': []}, 'Group_01_117': {'Start': 369.91, 'End': 370.68, 'CGA': []}, 'Group_01_118': {'Start': 370.86, 'End': 372.84, 'CGA': []}, 'Group_01_119': {'Start': 373.89, 'End': 380.58, 'CGA': []}, 'Group_01_120': {'Start': 374.64, 'End': 375.25, 'CGA': []}, 'Group_01_121': {'Start': 381.48, 'End': 383.61, 'CGA': []}, 'Group_01_122': {'Start': 383.7, 'End': 384.33, 'CGA': []}, 'Group_01_123': {'Start': 385.08, 'End': 388.41, 'CGA': []}, 'Group_01_124': {'Start': 394.62, 'End': 399.66, 'CGA': []}, 'Group_01_125': {'Start': 402.81, 'End': 406.89, 'CGA': []}, 'Group_01_126': {'Start': 407.58, 'End': 410.37, 'CGA': []}, 'Group_01_127': {'Start': 410.52, 'End': 412.5, 'CGA': []}, 'Group_01_128': {'Start': 413.43, 'End': 414.58, 'CGA': []}, 'Group_01_129': {'Start': 414.91, 'End': 415.83, 'CGA': []}, 'Group_01_130': {'Start': 416.76, 'End': 420.03, 'CGA': []}, 'Group_01_131': {'Start': 420.96, 'End': 423.39, 'CGA': []}, 'Group_01_132': {'Start': 423.87, 'End': 430.47, 'CGA': []}, 'Group_01_133': {'Start': 432.66, 'End': 435.72, 'CGA': []}, 'Group_01_134': {'Start': 440.4, 'End': 442.53, 'CGA': []}, 'Group_01_135': {'Start': 442.68, 'End': 448.16, 'CGA': []}, 'Group_01_136': {'Start': 443.66, 'End': 454.47, 'CGA': []}, 'Group_01_137': {'Start': 448.91, 'End': 450.5, 'CGA': []}, 'Group_01_138': {'Start': 455.37, 'End': 459.27, 'CGA': []}, 'Group_01_139': {'Start': 455.37, 'End': 457.5, 'CGA': []}, 'Group_01_140': {'Start': 460.26, 'End': 464.28, 'CGA': []}, 'Group_01_141': {'Start': 464.64, 'End': 473.25, 'CGA': []}, 'Group_01_142': {'Start': 467.91, 'End': 473.25, 'CGA': []}, 'Group_01_143': {'Start': 470.75, 'End': 472.01, 'CGA': []}, 'Group_01_144': {'Start': 473.37, 'End': 479.88, 'CGA': []}, 'Group_01_145': {'Start': 473.45, 'End': 479.88, 'CGA': []}, 'Group_01_146': {'Start': 481.71, 'End': 485.94, 'CGA': []}, 'Group_01_147': {'Start': 487.11, 'End': 489.69, 'CGA': []}, 'Group_01_148': {'Start': 488.16, 'End': 489.69, 'CGA': []}, 'Group_01_149': {'Start': 491.07, 'End': 493.59, 'CGA': []}, 'Group_01_150': {'Start': 493.72, 'End': 495.42, 'CGA': []}, 'Group_01_151': {'Start': 495.72, 'End': 498.01, 'CGA': []}, 'Group_01_152': {'Start': 498.5, 'End': 521.25, 'CGA': []}, 'Group_01_153': {'Start': 500.16, 'End': 502.83, 'CGA': []}, 'Group_01_154': {'Start': 505.68, 'End': 511.29, 'CGA': []}, 'Group_01_155': {'Start': 504.9, 'End': 505.5, 'CGA': []}, 'Group_01_156': {'Start': 511.32, 'End': 514.47, 'CGA': []}, 'Group_01_157': {'Start': 517.02, 'End': 519.24, 'CGA': []}, 'Group_01_158': {'Start': 525.0, 'End': 526.13, 'CGA': []}, 'Group_01_159': {'Start': 526.33, 'End': 527.58, 'CGA': []}, 'Group_01_160': {'Start': 533.01, 'End': 537.3, 'CGA': []}, 'Group_01_161': {'Start': 538.17, 'End': 541.44, 'CGA': []}, 'Group_01_162': {'Start': 539.83, 'End': 540.22, 'CGA': []}, 'Group_01_163': {'Start': 541.74, 'End': 545.94, 'CGA': []}, 'Group_01_164': {'Start': 546.21, 'End': 554.52, 'CGA': []}, 'Group_01_165': {'Start': 549.41, 'End': 550.5, 'CGA': []}, 'Group_01_166': {'Start': 555.57, 'End': 559.58, 'CGA': []}, 'Group_01_167': {'Start': 557.58, 'End': 558.66, 'CGA': []}, 'Group_01_168': {'Start': 559.08, 'End': 561.69, 'CGA': []}, 'Group_01_169': {'Start': 562.08, 'End': 563.41, 'CGA': []}, 'Group_01_170': {'Start': 563.42, 'End': 565.26, 'CGA': []}, 'Group_01_171': {'Start': 565.59, 'End': 574.71, 'CGA': []}, 'Group_01_172': {'Start': 574.92, 'End': 576.9, 'CGA': []}, 'Group_01_173': {'Start': 578.88, 'End': 582.09, 'CGA': []}, 'Group_01_174': {'Start': 589.86, 'End': 602.07, 'CGA': []}, 'Group_01_175': {'Start': 598.5, 'End': 600.5, 'CGA': []}, 'Group_01_176': {'Start': 603.9, 'End': 608.64, 'CGA': []}, 'Group_01_177': {'Start': 609.0, 'End': 612.75, 'CGA': []}, 'Group_01_178': {'Start': 610.5, 'End': 611.08, 'CGA': []}, 'Group_01_179': {'Start': 618.81, 'End': 623.4, 'CGA': []}, 'Group_01_180': {'Start': 623.43, 'End': 628.02, 'CGA': []}, 'Group_01_181': {'Start': 630.57, 'End': 641.28, 'CGA': []}, 'Group_01_182': {'Start': 632.23, 'End': 638.08, 'CGA': []}, 'Group_01_183': {'Start': 641.79, 'End': 645.92, 'CGA': []}, 'Group_01_184': {'Start': 646.25, 'End': 647.15, 'CGA': []}, 'Group_01_185': {'Start': 650.41, 'End': 652.35, 'CGA': []}, 'Group_01_186': {'Start': 652.65, 'End': 655.02, 'CGA': []}, 'Group_01_187': {'Start': 655.17, 'End': 666.21, 'CGA': []}, 'Group_01_188': {'Start': 666.24, 'End': 669.0, 'CGA': []}, 'Group_01_189': {'Start': 677.16, 'End': 679.14, 'CGA': []}, 'Group_01_190': {'Start': 679.23, 'End': 686.61, 'CGA': []}, 'Group_01_191': {'Start': 686.94, 'End': 692.37, 'CGA': []}, 'Group_01_192': {'Start': 689.91, 'End': 690.92, 'CGA': []}, 'Group_01_193': {'Start': 694.98, 'End': 697.29, 'CGA': []}, 'Group_01_194': {'Start': 697.32, 'End': 701.34, 'CGA': []}, 'Group_01_195': {'Start': 702.21, 'End': 707.07, 'CGA': []}, 'Group_01_196': {'Start': 704.75, 'End': 706.25, 'CGA': []}, 'Group_01_197': {'Start': 707.37, 'End': 712.26, 'CGA': []}, 'Group_01_198': {'Start': 712.75, 'End': 717.67, 'CGA': []}, 'Group_01_199': {'Start': 712.62, 'End': 723.9, 'CGA': []}, 'Group_01_200': {'Start': 718.91, 'End': 719.91, 'CGA': []}, 'Group_01_201': {'Start': 724.11, 'End': 726.92, 'CGA': []}, 'Group_01_202': {'Start': 727.25, 'End': 729.42, 'CGA': []}, 'Group_01_203': {'Start': 729.69, 'End': 731.79, 'CGA': []}, 'Group_01_204': {'Start': 732.75, 'End': 739.02, 'CGA': []}, 'Group_01_205': {'Start': 734.83, 'End': 737.25, 'CGA': []}, 'Group_01_206': {'Start': 738.16, 'End': 738.42, 'CGA': []}, 'Group_01_207': {'Start': 739.53, 'End': 741.51, 'CGA': []}, 'Group_01_208': {'Start': 743.28, 'End': 745.62, 'CGA': []}, 'Group_01_209': {'Start': 748.38, 'End': 751.83, 'CGA': []}, 'Group_01_210': {'Start': 752.02, 'End': 753.45, 'CGA': []}, 'Group_01_211': {'Start': 754.77, 'End': 757.89, 'CGA': []}, 'Group_01_212': {'Start': 760.41, 'End': 771.36, 'CGA': []}, 'Group_01_213': {'Start': 760.58, 'End': 764.58, 'CGA': []}, 'Group_01_214': {'Start': 752.25, 'End': 774.39, 'CGA': []}, 'Group_01_215': {'Start': 780.15, 'End': 783.54, 'CGA': []}, 'Group_01_216': {'Start': 782.02, 'End': 783.4, 'CGA': []}, 'Group_01_217': {'Start': 785.97, 'End': 786.66, 'CGA': []}, 'Group_01_218': {'Start': 786.5, 'End': 787.8, 'CGA': []}}}\n"
     ]
    }
   ],
   "source": [
    "for group in groups:\n",
    "    getUtteranceDictionary(group)\n",
    "    mapStatementtoUtterance(group)\n",
    "print(utteranceDict)"
   ]
  }
 ],
 "metadata": {
  "kernelspec": {
   "display_name": "Python 3 (ipykernel)",
   "language": "python",
   "name": "python3"
  },
  "language_info": {
   "codemirror_mode": {
    "name": "ipython",
    "version": 3
   },
   "file_extension": ".py",
   "mimetype": "text/x-python",
   "name": "python",
   "nbconvert_exporter": "python",
   "pygments_lexer": "ipython3",
   "version": "3.8.12"
  }
 },
 "nbformat": 4,
 "nbformat_minor": 2
}
